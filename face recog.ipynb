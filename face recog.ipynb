{
 "cells": [
  {
   "cell_type": "code",
   "execution_count": 7,
   "id": "01d7ed6a",
   "metadata": {},
   "outputs": [
    {
     "name": "stdout",
     "output_type": "stream",
     "text": [
      "Requirement already satisfied: tensorflow in c:\\users\\admin\\anaconda3\\lib\\site-packages (2.13.0)\n",
      "Collecting opencv-python\n",
      "  Using cached opencv_python-4.8.0.74-cp37-abi3-win_amd64.whl (38.1 MB)\n",
      "Requirement already satisfied: matplotlib in c:\\users\\admin\\anaconda3\\lib\\site-packages (3.7.0)\n",
      "Requirement already satisfied: tensorflow-intel==2.13.0 in c:\\users\\admin\\anaconda3\\lib\\site-packages (from tensorflow) (2.13.0)\n",
      "Requirement already satisfied: wrapt>=1.11.0 in c:\\users\\admin\\anaconda3\\lib\\site-packages (from tensorflow-intel==2.13.0->tensorflow) (1.14.1)\n",
      "Requirement already satisfied: tensorflow-estimator<2.14,>=2.13.0 in c:\\users\\admin\\anaconda3\\lib\\site-packages (from tensorflow-intel==2.13.0->tensorflow) (2.13.0)\n",
      "Requirement already satisfied: numpy<=1.24.3,>=1.22 in c:\\users\\admin\\anaconda3\\lib\\site-packages (from tensorflow-intel==2.13.0->tensorflow) (1.23.5)\n",
      "Requirement already satisfied: absl-py>=1.0.0 in c:\\users\\admin\\anaconda3\\lib\\site-packages (from tensorflow-intel==2.13.0->tensorflow) (1.4.0)\n",
      "Requirement already satisfied: tensorboard<2.14,>=2.13 in c:\\users\\admin\\anaconda3\\lib\\site-packages (from tensorflow-intel==2.13.0->tensorflow) (2.13.0)\n",
      "Requirement already satisfied: google-pasta>=0.1.1 in c:\\users\\admin\\anaconda3\\lib\\site-packages (from tensorflow-intel==2.13.0->tensorflow) (0.2.0)\n",
      "Requirement already satisfied: keras<2.14,>=2.13.1 in c:\\users\\admin\\anaconda3\\lib\\site-packages (from tensorflow-intel==2.13.0->tensorflow) (2.13.1)\n",
      "Requirement already satisfied: opt-einsum>=2.3.2 in c:\\users\\admin\\anaconda3\\lib\\site-packages (from tensorflow-intel==2.13.0->tensorflow) (3.3.0)\n",
      "Requirement already satisfied: protobuf!=4.21.0,!=4.21.1,!=4.21.2,!=4.21.3,!=4.21.4,!=4.21.5,<5.0.0dev,>=3.20.3 in c:\\users\\admin\\anaconda3\\lib\\site-packages (from tensorflow-intel==2.13.0->tensorflow) (4.23.4)\n",
      "Requirement already satisfied: packaging in c:\\users\\admin\\anaconda3\\lib\\site-packages (from tensorflow-intel==2.13.0->tensorflow) (22.0)\n",
      "Requirement already satisfied: h5py>=2.9.0 in c:\\users\\admin\\anaconda3\\lib\\site-packages (from tensorflow-intel==2.13.0->tensorflow) (3.7.0)\n",
      "Requirement already satisfied: typing-extensions<4.6.0,>=3.6.6 in c:\\users\\admin\\anaconda3\\lib\\site-packages (from tensorflow-intel==2.13.0->tensorflow) (4.4.0)\n",
      "Requirement already satisfied: flatbuffers>=23.1.21 in c:\\users\\admin\\anaconda3\\lib\\site-packages (from tensorflow-intel==2.13.0->tensorflow) (23.5.26)\n",
      "Requirement already satisfied: astunparse>=1.6.0 in c:\\users\\admin\\anaconda3\\lib\\site-packages (from tensorflow-intel==2.13.0->tensorflow) (1.6.3)\n",
      "Requirement already satisfied: gast<=0.4.0,>=0.2.1 in c:\\users\\admin\\anaconda3\\lib\\site-packages (from tensorflow-intel==2.13.0->tensorflow) (0.4.0)\n",
      "Requirement already satisfied: libclang>=13.0.0 in c:\\users\\admin\\anaconda3\\lib\\site-packages (from tensorflow-intel==2.13.0->tensorflow) (16.0.6)\n",
      "Requirement already satisfied: grpcio<2.0,>=1.24.3 in c:\\users\\admin\\anaconda3\\lib\\site-packages (from tensorflow-intel==2.13.0->tensorflow) (1.56.2)\n",
      "Requirement already satisfied: tensorflow-io-gcs-filesystem>=0.23.1 in c:\\users\\admin\\anaconda3\\lib\\site-packages (from tensorflow-intel==2.13.0->tensorflow) (0.31.0)\n",
      "Requirement already satisfied: setuptools in c:\\users\\admin\\anaconda3\\lib\\site-packages (from tensorflow-intel==2.13.0->tensorflow) (65.6.3)\n",
      "Requirement already satisfied: six>=1.12.0 in c:\\users\\admin\\anaconda3\\lib\\site-packages (from tensorflow-intel==2.13.0->tensorflow) (1.16.0)\n",
      "Requirement already satisfied: termcolor>=1.1.0 in c:\\users\\admin\\anaconda3\\lib\\site-packages (from tensorflow-intel==2.13.0->tensorflow) (2.3.0)\n",
      "Requirement already satisfied: cycler>=0.10 in c:\\users\\admin\\anaconda3\\lib\\site-packages (from matplotlib) (0.11.0)\n",
      "Requirement already satisfied: python-dateutil>=2.7 in c:\\users\\admin\\anaconda3\\lib\\site-packages (from matplotlib) (2.8.2)\n",
      "Requirement already satisfied: pyparsing>=2.3.1 in c:\\users\\admin\\anaconda3\\lib\\site-packages (from matplotlib) (3.0.9)\n",
      "Requirement already satisfied: pillow>=6.2.0 in c:\\users\\admin\\anaconda3\\lib\\site-packages (from matplotlib) (9.4.0)\n",
      "Requirement already satisfied: contourpy>=1.0.1 in c:\\users\\admin\\anaconda3\\lib\\site-packages (from matplotlib) (1.0.5)\n",
      "Requirement already satisfied: fonttools>=4.22.0 in c:\\users\\admin\\anaconda3\\lib\\site-packages (from matplotlib) (4.25.0)\n",
      "Requirement already satisfied: kiwisolver>=1.0.1 in c:\\users\\admin\\anaconda3\\lib\\site-packages (from matplotlib) (1.4.4)\n",
      "Requirement already satisfied: wheel<1.0,>=0.23.0 in c:\\users\\admin\\anaconda3\\lib\\site-packages (from astunparse>=1.6.0->tensorflow-intel==2.13.0->tensorflow) (0.38.4)\n",
      "Requirement already satisfied: requests<3,>=2.21.0 in c:\\users\\admin\\anaconda3\\lib\\site-packages (from tensorboard<2.14,>=2.13->tensorflow-intel==2.13.0->tensorflow) (2.28.1)\n",
      "Requirement already satisfied: werkzeug>=1.0.1 in c:\\users\\admin\\anaconda3\\lib\\site-packages (from tensorboard<2.14,>=2.13->tensorflow-intel==2.13.0->tensorflow) (2.2.2)\n",
      "Requirement already satisfied: google-auth<3,>=1.6.3 in c:\\users\\admin\\anaconda3\\lib\\site-packages (from tensorboard<2.14,>=2.13->tensorflow-intel==2.13.0->tensorflow) (2.22.0)\n",
      "Requirement already satisfied: tensorboard-data-server<0.8.0,>=0.7.0 in c:\\users\\admin\\anaconda3\\lib\\site-packages (from tensorboard<2.14,>=2.13->tensorflow-intel==2.13.0->tensorflow) (0.7.1)\n",
      "Requirement already satisfied: markdown>=2.6.8 in c:\\users\\admin\\anaconda3\\lib\\site-packages (from tensorboard<2.14,>=2.13->tensorflow-intel==2.13.0->tensorflow) (3.4.1)\n",
      "Requirement already satisfied: google-auth-oauthlib<1.1,>=0.5 in c:\\users\\admin\\anaconda3\\lib\\site-packages (from tensorboard<2.14,>=2.13->tensorflow-intel==2.13.0->tensorflow) (1.0.0)\n",
      "Requirement already satisfied: pyasn1-modules>=0.2.1 in c:\\users\\admin\\anaconda3\\lib\\site-packages (from google-auth<3,>=1.6.3->tensorboard<2.14,>=2.13->tensorflow-intel==2.13.0->tensorflow) (0.2.8)\n",
      "Requirement already satisfied: cachetools<6.0,>=2.0.0 in c:\\users\\admin\\anaconda3\\lib\\site-packages (from google-auth<3,>=1.6.3->tensorboard<2.14,>=2.13->tensorflow-intel==2.13.0->tensorflow) (5.3.1)\n",
      "Requirement already satisfied: urllib3<2.0 in c:\\users\\admin\\anaconda3\\lib\\site-packages (from google-auth<3,>=1.6.3->tensorboard<2.14,>=2.13->tensorflow-intel==2.13.0->tensorflow) (1.26.14)\n",
      "Requirement already satisfied: rsa<5,>=3.1.4 in c:\\users\\admin\\anaconda3\\lib\\site-packages (from google-auth<3,>=1.6.3->tensorboard<2.14,>=2.13->tensorflow-intel==2.13.0->tensorflow) (4.9)\n",
      "Requirement already satisfied: requests-oauthlib>=0.7.0 in c:\\users\\admin\\anaconda3\\lib\\site-packages (from google-auth-oauthlib<1.1,>=0.5->tensorboard<2.14,>=2.13->tensorflow-intel==2.13.0->tensorflow) (1.3.1)\n",
      "Requirement already satisfied: certifi>=2017.4.17 in c:\\users\\admin\\anaconda3\\lib\\site-packages (from requests<3,>=2.21.0->tensorboard<2.14,>=2.13->tensorflow-intel==2.13.0->tensorflow) (2022.12.7)\n",
      "Requirement already satisfied: idna<4,>=2.5 in c:\\users\\admin\\anaconda3\\lib\\site-packages (from requests<3,>=2.21.0->tensorboard<2.14,>=2.13->tensorflow-intel==2.13.0->tensorflow) (3.4)\n",
      "Requirement already satisfied: charset-normalizer<3,>=2 in c:\\users\\admin\\anaconda3\\lib\\site-packages (from requests<3,>=2.21.0->tensorboard<2.14,>=2.13->tensorflow-intel==2.13.0->tensorflow) (2.0.4)\n",
      "Requirement already satisfied: MarkupSafe>=2.1.1 in c:\\users\\admin\\anaconda3\\lib\\site-packages (from werkzeug>=1.0.1->tensorboard<2.14,>=2.13->tensorflow-intel==2.13.0->tensorflow) (2.1.1)\n",
      "Requirement already satisfied: pyasn1<0.5.0,>=0.4.6 in c:\\users\\admin\\anaconda3\\lib\\site-packages (from pyasn1-modules>=0.2.1->google-auth<3,>=1.6.3->tensorboard<2.14,>=2.13->tensorflow-intel==2.13.0->tensorflow) (0.4.8)\n",
      "Requirement already satisfied: oauthlib>=3.0.0 in c:\\users\\admin\\anaconda3\\lib\\site-packages (from requests-oauthlib>=0.7.0->google-auth-oauthlib<1.1,>=0.5->tensorboard<2.14,>=2.13->tensorflow-intel==2.13.0->tensorflow) (3.2.2)\n",
      "Installing collected packages: opencv-python\n",
      "Successfully installed opencv-python-4.8.0.74\n"
     ]
    }
   ],
   "source": [
    "!pip install tensorflow opencv-python matplotlib"
   ]
  },
  {
   "cell_type": "code",
   "execution_count": 156,
   "id": "540a8656",
   "metadata": {},
   "outputs": [],
   "source": [
    "import cv2\n",
    "import os\n",
    "import random\n",
    "import numpy as np\n",
    "from matplotlib import pyplot as plt"
   ]
  },
  {
   "cell_type": "code",
   "execution_count": 253,
   "id": "2d1922cb",
   "metadata": {},
   "outputs": [],
   "source": [
    "from tensorflow.keras.models import Model\n",
    "from tensorflow.keras.layers import Layer , Conv2D , Dense , MaxPooling2D , Input , Flatten\n",
    "import tensorflow as tf"
   ]
  },
  {
   "cell_type": "code",
   "execution_count": 260,
   "id": "b36d4279",
   "metadata": {},
   "outputs": [
    {
     "name": "stdout",
     "output_type": "stream",
     "text": [
      "Requirement already satisfied: tensorflow in c:\\users\\admin\\anaconda3\\lib\\site-packages (2.13.0)\n",
      "Requirement already satisfied: tensorflow-intel==2.13.0 in c:\\users\\admin\\anaconda3\\lib\\site-packages (from tensorflow) (2.13.0)\n",
      "Requirement already satisfied: gast<=0.4.0,>=0.2.1 in c:\\users\\admin\\anaconda3\\lib\\site-packages (from tensorflow-intel==2.13.0->tensorflow) (0.4.0)\n",
      "Requirement already satisfied: numpy<=1.24.3,>=1.22 in c:\\users\\admin\\anaconda3\\lib\\site-packages (from tensorflow-intel==2.13.0->tensorflow) (1.23.5)\n",
      "Requirement already satisfied: tensorboard<2.14,>=2.13 in c:\\users\\admin\\anaconda3\\lib\\site-packages (from tensorflow-intel==2.13.0->tensorflow) (2.13.0)\n",
      "Requirement already satisfied: setuptools in c:\\users\\admin\\anaconda3\\lib\\site-packages (from tensorflow-intel==2.13.0->tensorflow) (65.6.3)\n",
      "Requirement already satisfied: opt-einsum>=2.3.2 in c:\\users\\admin\\anaconda3\\lib\\site-packages (from tensorflow-intel==2.13.0->tensorflow) (3.3.0)\n",
      "Requirement already satisfied: google-pasta>=0.1.1 in c:\\users\\admin\\anaconda3\\lib\\site-packages (from tensorflow-intel==2.13.0->tensorflow) (0.2.0)\n",
      "Requirement already satisfied: grpcio<2.0,>=1.24.3 in c:\\users\\admin\\anaconda3\\lib\\site-packages (from tensorflow-intel==2.13.0->tensorflow) (1.56.2)\n",
      "Requirement already satisfied: typing-extensions<4.6.0,>=3.6.6 in c:\\users\\admin\\anaconda3\\lib\\site-packages (from tensorflow-intel==2.13.0->tensorflow) (4.4.0)\n",
      "Requirement already satisfied: tensorflow-estimator<2.14,>=2.13.0 in c:\\users\\admin\\anaconda3\\lib\\site-packages (from tensorflow-intel==2.13.0->tensorflow) (2.13.0)\n",
      "Requirement already satisfied: wrapt>=1.11.0 in c:\\users\\admin\\anaconda3\\lib\\site-packages (from tensorflow-intel==2.13.0->tensorflow) (1.14.1)\n",
      "Requirement already satisfied: tensorflow-io-gcs-filesystem>=0.23.1 in c:\\users\\admin\\anaconda3\\lib\\site-packages (from tensorflow-intel==2.13.0->tensorflow) (0.31.0)\n",
      "Requirement already satisfied: six>=1.12.0 in c:\\users\\admin\\anaconda3\\lib\\site-packages (from tensorflow-intel==2.13.0->tensorflow) (1.16.0)\n",
      "Requirement already satisfied: protobuf!=4.21.0,!=4.21.1,!=4.21.2,!=4.21.3,!=4.21.4,!=4.21.5,<5.0.0dev,>=3.20.3 in c:\\users\\admin\\anaconda3\\lib\\site-packages (from tensorflow-intel==2.13.0->tensorflow) (4.23.4)\n",
      "Requirement already satisfied: absl-py>=1.0.0 in c:\\users\\admin\\anaconda3\\lib\\site-packages (from tensorflow-intel==2.13.0->tensorflow) (1.4.0)\n",
      "Requirement already satisfied: keras<2.14,>=2.13.1 in c:\\users\\admin\\anaconda3\\lib\\site-packages (from tensorflow-intel==2.13.0->tensorflow) (2.13.1)\n",
      "Requirement already satisfied: astunparse>=1.6.0 in c:\\users\\admin\\anaconda3\\lib\\site-packages (from tensorflow-intel==2.13.0->tensorflow) (1.6.3)\n",
      "Requirement already satisfied: packaging in c:\\users\\admin\\anaconda3\\lib\\site-packages (from tensorflow-intel==2.13.0->tensorflow) (22.0)\n",
      "Requirement already satisfied: h5py>=2.9.0 in c:\\users\\admin\\anaconda3\\lib\\site-packages (from tensorflow-intel==2.13.0->tensorflow) (3.7.0)\n",
      "Requirement already satisfied: flatbuffers>=23.1.21 in c:\\users\\admin\\anaconda3\\lib\\site-packages (from tensorflow-intel==2.13.0->tensorflow) (23.5.26)\n",
      "Requirement already satisfied: termcolor>=1.1.0 in c:\\users\\admin\\anaconda3\\lib\\site-packages (from tensorflow-intel==2.13.0->tensorflow) (2.3.0)\n",
      "Requirement already satisfied: libclang>=13.0.0 in c:\\users\\admin\\anaconda3\\lib\\site-packages (from tensorflow-intel==2.13.0->tensorflow) (16.0.6)\n",
      "Requirement already satisfied: wheel<1.0,>=0.23.0 in c:\\users\\admin\\anaconda3\\lib\\site-packages (from astunparse>=1.6.0->tensorflow-intel==2.13.0->tensorflow) (0.38.4)\n",
      "Requirement already satisfied: tensorboard-data-server<0.8.0,>=0.7.0 in c:\\users\\admin\\anaconda3\\lib\\site-packages (from tensorboard<2.14,>=2.13->tensorflow-intel==2.13.0->tensorflow) (0.7.1)\n",
      "Requirement already satisfied: werkzeug>=1.0.1 in c:\\users\\admin\\anaconda3\\lib\\site-packages (from tensorboard<2.14,>=2.13->tensorflow-intel==2.13.0->tensorflow) (2.2.2)\n",
      "Requirement already satisfied: requests<3,>=2.21.0 in c:\\users\\admin\\anaconda3\\lib\\site-packages (from tensorboard<2.14,>=2.13->tensorflow-intel==2.13.0->tensorflow) (2.28.1)\n",
      "Requirement already satisfied: google-auth<3,>=1.6.3 in c:\\users\\admin\\anaconda3\\lib\\site-packages (from tensorboard<2.14,>=2.13->tensorflow-intel==2.13.0->tensorflow) (2.22.0)\n",
      "Requirement already satisfied: google-auth-oauthlib<1.1,>=0.5 in c:\\users\\admin\\anaconda3\\lib\\site-packages (from tensorboard<2.14,>=2.13->tensorflow-intel==2.13.0->tensorflow) (1.0.0)\n",
      "Requirement already satisfied: markdown>=2.6.8 in c:\\users\\admin\\anaconda3\\lib\\site-packages (from tensorboard<2.14,>=2.13->tensorflow-intel==2.13.0->tensorflow) (3.4.1)\n",
      "Requirement already satisfied: cachetools<6.0,>=2.0.0 in c:\\users\\admin\\anaconda3\\lib\\site-packages (from google-auth<3,>=1.6.3->tensorboard<2.14,>=2.13->tensorflow-intel==2.13.0->tensorflow) (5.3.1)\n",
      "Requirement already satisfied: urllib3<2.0 in c:\\users\\admin\\anaconda3\\lib\\site-packages (from google-auth<3,>=1.6.3->tensorboard<2.14,>=2.13->tensorflow-intel==2.13.0->tensorflow) (1.26.14)\n",
      "Requirement already satisfied: pyasn1-modules>=0.2.1 in c:\\users\\admin\\anaconda3\\lib\\site-packages (from google-auth<3,>=1.6.3->tensorboard<2.14,>=2.13->tensorflow-intel==2.13.0->tensorflow) (0.2.8)\n",
      "Requirement already satisfied: rsa<5,>=3.1.4 in c:\\users\\admin\\anaconda3\\lib\\site-packages (from google-auth<3,>=1.6.3->tensorboard<2.14,>=2.13->tensorflow-intel==2.13.0->tensorflow) (4.9)\n",
      "Requirement already satisfied: requests-oauthlib>=0.7.0 in c:\\users\\admin\\anaconda3\\lib\\site-packages (from google-auth-oauthlib<1.1,>=0.5->tensorboard<2.14,>=2.13->tensorflow-intel==2.13.0->tensorflow) (1.3.1)\n",
      "Requirement already satisfied: idna<4,>=2.5 in c:\\users\\admin\\anaconda3\\lib\\site-packages (from requests<3,>=2.21.0->tensorboard<2.14,>=2.13->tensorflow-intel==2.13.0->tensorflow) (3.4)\n",
      "Requirement already satisfied: charset-normalizer<3,>=2 in c:\\users\\admin\\anaconda3\\lib\\site-packages (from requests<3,>=2.21.0->tensorboard<2.14,>=2.13->tensorflow-intel==2.13.0->tensorflow) (2.0.4)\n",
      "Requirement already satisfied: certifi>=2017.4.17 in c:\\users\\admin\\anaconda3\\lib\\site-packages (from requests<3,>=2.21.0->tensorboard<2.14,>=2.13->tensorflow-intel==2.13.0->tensorflow) (2022.12.7)\n",
      "Requirement already satisfied: MarkupSafe>=2.1.1 in c:\\users\\admin\\anaconda3\\lib\\site-packages (from werkzeug>=1.0.1->tensorboard<2.14,>=2.13->tensorflow-intel==2.13.0->tensorflow) (2.1.1)\n",
      "Requirement already satisfied: pyasn1<0.5.0,>=0.4.6 in c:\\users\\admin\\anaconda3\\lib\\site-packages (from pyasn1-modules>=0.2.1->google-auth<3,>=1.6.3->tensorboard<2.14,>=2.13->tensorflow-intel==2.13.0->tensorflow) (0.4.8)\n",
      "Requirement already satisfied: oauthlib>=3.0.0 in c:\\users\\admin\\anaconda3\\lib\\site-packages (from requests-oauthlib>=0.7.0->google-auth-oauthlib<1.1,>=0.5->tensorboard<2.14,>=2.13->tensorflow-intel==2.13.0->tensorflow) (3.2.2)\n"
     ]
    }
   ],
   "source": [
    "!pip3 install tensorflow"
   ]
  },
  {
   "cell_type": "code",
   "execution_count": 262,
   "id": "30e85c32",
   "metadata": {},
   "outputs": [
    {
     "name": "stdout",
     "output_type": "stream",
     "text": [
      "Requirement already satisfied: tensorflow in c:\\users\\admin\\anaconda3\\lib\\site-packages (2.13.0)\n",
      "Requirement already satisfied: tensorflow-intel==2.13.0 in c:\\users\\admin\\anaconda3\\lib\\site-packages (from tensorflow) (2.13.0)\n",
      "Requirement already satisfied: protobuf!=4.21.0,!=4.21.1,!=4.21.2,!=4.21.3,!=4.21.4,!=4.21.5,<5.0.0dev,>=3.20.3 in c:\\users\\admin\\anaconda3\\lib\\site-packages (from tensorflow-intel==2.13.0->tensorflow) (4.23.4)\n",
      "Requirement already satisfied: absl-py>=1.0.0 in c:\\users\\admin\\anaconda3\\lib\\site-packages (from tensorflow-intel==2.13.0->tensorflow) (1.4.0)\n",
      "Requirement already satisfied: h5py>=2.9.0 in c:\\users\\admin\\anaconda3\\lib\\site-packages (from tensorflow-intel==2.13.0->tensorflow) (3.7.0)\n",
      "Requirement already satisfied: tensorflow-io-gcs-filesystem>=0.23.1 in c:\\users\\admin\\anaconda3\\lib\\site-packages (from tensorflow-intel==2.13.0->tensorflow) (0.31.0)\n",
      "Requirement already satisfied: six>=1.12.0 in c:\\users\\admin\\anaconda3\\lib\\site-packages (from tensorflow-intel==2.13.0->tensorflow) (1.16.0)\n",
      "Requirement already satisfied: astunparse>=1.6.0 in c:\\users\\admin\\anaconda3\\lib\\site-packages (from tensorflow-intel==2.13.0->tensorflow) (1.6.3)\n",
      "Requirement already satisfied: grpcio<2.0,>=1.24.3 in c:\\users\\admin\\anaconda3\\lib\\site-packages (from tensorflow-intel==2.13.0->tensorflow) (1.56.2)\n",
      "Requirement already satisfied: opt-einsum>=2.3.2 in c:\\users\\admin\\anaconda3\\lib\\site-packages (from tensorflow-intel==2.13.0->tensorflow) (3.3.0)\n",
      "Requirement already satisfied: tensorflow-estimator<2.14,>=2.13.0 in c:\\users\\admin\\anaconda3\\lib\\site-packages (from tensorflow-intel==2.13.0->tensorflow) (2.13.0)\n",
      "Requirement already satisfied: typing-extensions<4.6.0,>=3.6.6 in c:\\users\\admin\\anaconda3\\lib\\site-packages (from tensorflow-intel==2.13.0->tensorflow) (4.4.0)\n",
      "Requirement already satisfied: flatbuffers>=23.1.21 in c:\\users\\admin\\anaconda3\\lib\\site-packages (from tensorflow-intel==2.13.0->tensorflow) (23.5.26)\n",
      "Requirement already satisfied: libclang>=13.0.0 in c:\\users\\admin\\anaconda3\\lib\\site-packages (from tensorflow-intel==2.13.0->tensorflow) (16.0.6)\n",
      "Requirement already satisfied: wrapt>=1.11.0 in c:\\users\\admin\\anaconda3\\lib\\site-packages (from tensorflow-intel==2.13.0->tensorflow) (1.14.1)\n",
      "Requirement already satisfied: keras<2.14,>=2.13.1 in c:\\users\\admin\\anaconda3\\lib\\site-packages (from tensorflow-intel==2.13.0->tensorflow) (2.13.1)\n",
      "Requirement already satisfied: google-pasta>=0.1.1 in c:\\users\\admin\\anaconda3\\lib\\site-packages (from tensorflow-intel==2.13.0->tensorflow) (0.2.0)\n",
      "Requirement already satisfied: gast<=0.4.0,>=0.2.1 in c:\\users\\admin\\anaconda3\\lib\\site-packages (from tensorflow-intel==2.13.0->tensorflow) (0.4.0)\n",
      "Requirement already satisfied: tensorboard<2.14,>=2.13 in c:\\users\\admin\\anaconda3\\lib\\site-packages (from tensorflow-intel==2.13.0->tensorflow) (2.13.0)\n",
      "Requirement already satisfied: termcolor>=1.1.0 in c:\\users\\admin\\anaconda3\\lib\\site-packages (from tensorflow-intel==2.13.0->tensorflow) (2.3.0)\n",
      "Requirement already satisfied: packaging in c:\\users\\admin\\anaconda3\\lib\\site-packages (from tensorflow-intel==2.13.0->tensorflow) (22.0)\n",
      "Requirement already satisfied: numpy<=1.24.3,>=1.22 in c:\\users\\admin\\anaconda3\\lib\\site-packages (from tensorflow-intel==2.13.0->tensorflow) (1.23.5)\n",
      "Requirement already satisfied: setuptools in c:\\users\\admin\\anaconda3\\lib\\site-packages (from tensorflow-intel==2.13.0->tensorflow) (65.6.3)\n",
      "Requirement already satisfied: wheel<1.0,>=0.23.0 in c:\\users\\admin\\anaconda3\\lib\\site-packages (from astunparse>=1.6.0->tensorflow-intel==2.13.0->tensorflow) (0.38.4)\n",
      "Requirement already satisfied: google-auth-oauthlib<1.1,>=0.5 in c:\\users\\admin\\anaconda3\\lib\\site-packages (from tensorboard<2.14,>=2.13->tensorflow-intel==2.13.0->tensorflow) (1.0.0)\n",
      "Requirement already satisfied: tensorboard-data-server<0.8.0,>=0.7.0 in c:\\users\\admin\\anaconda3\\lib\\site-packages (from tensorboard<2.14,>=2.13->tensorflow-intel==2.13.0->tensorflow) (0.7.1)\n",
      "Requirement already satisfied: markdown>=2.6.8 in c:\\users\\admin\\anaconda3\\lib\\site-packages (from tensorboard<2.14,>=2.13->tensorflow-intel==2.13.0->tensorflow) (3.4.1)\n",
      "Requirement already satisfied: requests<3,>=2.21.0 in c:\\users\\admin\\anaconda3\\lib\\site-packages (from tensorboard<2.14,>=2.13->tensorflow-intel==2.13.0->tensorflow) (2.28.1)\n",
      "Requirement already satisfied: google-auth<3,>=1.6.3 in c:\\users\\admin\\anaconda3\\lib\\site-packages (from tensorboard<2.14,>=2.13->tensorflow-intel==2.13.0->tensorflow) (2.22.0)\n",
      "Requirement already satisfied: werkzeug>=1.0.1 in c:\\users\\admin\\anaconda3\\lib\\site-packages (from tensorboard<2.14,>=2.13->tensorflow-intel==2.13.0->tensorflow) (2.2.2)\n",
      "Requirement already satisfied: cachetools<6.0,>=2.0.0 in c:\\users\\admin\\anaconda3\\lib\\site-packages (from google-auth<3,>=1.6.3->tensorboard<2.14,>=2.13->tensorflow-intel==2.13.0->tensorflow) (5.3.1)\n",
      "Requirement already satisfied: rsa<5,>=3.1.4 in c:\\users\\admin\\anaconda3\\lib\\site-packages (from google-auth<3,>=1.6.3->tensorboard<2.14,>=2.13->tensorflow-intel==2.13.0->tensorflow) (4.9)\n",
      "Requirement already satisfied: pyasn1-modules>=0.2.1 in c:\\users\\admin\\anaconda3\\lib\\site-packages (from google-auth<3,>=1.6.3->tensorboard<2.14,>=2.13->tensorflow-intel==2.13.0->tensorflow) (0.2.8)\n",
      "Requirement already satisfied: urllib3<2.0 in c:\\users\\admin\\anaconda3\\lib\\site-packages (from google-auth<3,>=1.6.3->tensorboard<2.14,>=2.13->tensorflow-intel==2.13.0->tensorflow) (1.26.14)\n",
      "Requirement already satisfied: requests-oauthlib>=0.7.0 in c:\\users\\admin\\anaconda3\\lib\\site-packages (from google-auth-oauthlib<1.1,>=0.5->tensorboard<2.14,>=2.13->tensorflow-intel==2.13.0->tensorflow) (1.3.1)\n",
      "Requirement already satisfied: certifi>=2017.4.17 in c:\\users\\admin\\anaconda3\\lib\\site-packages (from requests<3,>=2.21.0->tensorboard<2.14,>=2.13->tensorflow-intel==2.13.0->tensorflow) (2022.12.7)\n",
      "Requirement already satisfied: charset-normalizer<3,>=2 in c:\\users\\admin\\anaconda3\\lib\\site-packages (from requests<3,>=2.21.0->tensorboard<2.14,>=2.13->tensorflow-intel==2.13.0->tensorflow) (2.0.4)\n",
      "Requirement already satisfied: idna<4,>=2.5 in c:\\users\\admin\\anaconda3\\lib\\site-packages (from requests<3,>=2.21.0->tensorboard<2.14,>=2.13->tensorflow-intel==2.13.0->tensorflow) (3.4)\n",
      "Requirement already satisfied: MarkupSafe>=2.1.1 in c:\\users\\admin\\anaconda3\\lib\\site-packages (from werkzeug>=1.0.1->tensorboard<2.14,>=2.13->tensorflow-intel==2.13.0->tensorflow) (2.1.1)\n",
      "Requirement already satisfied: pyasn1<0.5.0,>=0.4.6 in c:\\users\\admin\\anaconda3\\lib\\site-packages (from pyasn1-modules>=0.2.1->google-auth<3,>=1.6.3->tensorboard<2.14,>=2.13->tensorflow-intel==2.13.0->tensorflow) (0.4.8)\n",
      "Requirement already satisfied: oauthlib>=3.0.0 in c:\\users\\admin\\anaconda3\\lib\\site-packages (from requests-oauthlib>=0.7.0->google-auth-oauthlib<1.1,>=0.5->tensorboard<2.14,>=2.13->tensorflow-intel==2.13.0->tensorflow) (3.2.2)\n"
     ]
    }
   ],
   "source": [
    "!pip3 install --upgrade tensorflow"
   ]
  },
  {
   "cell_type": "code",
   "execution_count": 271,
   "id": "e662dccb",
   "metadata": {},
   "outputs": [
    {
     "data": {
      "text/plain": [
       "[]"
      ]
     },
     "execution_count": 271,
     "metadata": {},
     "output_type": "execute_result"
    }
   ],
   "source": [
    "tf.config.list_physical_devices('GPU')"
   ]
  },
  {
   "cell_type": "code",
   "execution_count": 268,
   "id": "8daf6d58",
   "metadata": {},
   "outputs": [
    {
     "name": "stdout",
     "output_type": "stream",
     "text": [
      "[]\n"
     ]
    }
   ],
   "source": [
    "# avoid out of mem errors\n",
    "gpus  = tf.config.list_physical_devices('GPU')\n",
    "print(gpus)\n",
    "for gpu in gpus:\n",
    "    print(gpu)\n",
    "    tf.config.experimental.set_memory_growth(gpu,True)\n",
    "        "
   ]
  },
  {
   "cell_type": "code",
   "execution_count": 159,
   "id": "d4974cef",
   "metadata": {},
   "outputs": [],
   "source": [
    "POS_PATH = os.path.join('data' , 'positive')\n",
    "NEG_PATH = os.path.join('data' , 'negative')\n",
    "ANC_PATH = os.path.join('data' , 'anchor')"
   ]
  },
  {
   "cell_type": "code",
   "execution_count": 160,
   "id": "290cdd5c",
   "metadata": {},
   "outputs": [
    {
     "ename": "FileExistsError",
     "evalue": "[WinError 183] Cannot create a file when that file already exists: 'data\\\\positive'",
     "output_type": "error",
     "traceback": [
      "\u001b[1;31m---------------------------------------------------------------------------\u001b[0m",
      "\u001b[1;31mFileExistsError\u001b[0m                           Traceback (most recent call last)",
      "Cell \u001b[1;32mIn[160], line 1\u001b[0m\n\u001b[1;32m----> 1\u001b[0m \u001b[43mos\u001b[49m\u001b[38;5;241;43m.\u001b[39;49m\u001b[43mmkdir\u001b[49m\u001b[43m(\u001b[49m\u001b[43mPOS_PATH\u001b[49m\u001b[43m)\u001b[49m\n\u001b[0;32m      2\u001b[0m os\u001b[38;5;241m.\u001b[39mmkdir(NEG_PATH)\n\u001b[0;32m      3\u001b[0m os\u001b[38;5;241m.\u001b[39mmkdir(ANC_PATH)\n",
      "\u001b[1;31mFileExistsError\u001b[0m: [WinError 183] Cannot create a file when that file already exists: 'data\\\\positive'"
     ]
    }
   ],
   "source": [
    "os.mkdir(POS_PATH)\n",
    "os.mkdir(NEG_PATH)\n",
    "os.mkdir(ANC_PATH)"
   ]
  },
  {
   "cell_type": "code",
   "execution_count": 10,
   "id": "66753309",
   "metadata": {},
   "outputs": [],
   "source": [
    "!tar -xf lfw.tgz"
   ]
  },
  {
   "cell_type": "code",
   "execution_count": null,
   "id": "0518442e",
   "metadata": {},
   "outputs": [],
   "source": []
  },
  {
   "cell_type": "code",
   "execution_count": 26,
   "id": "71170ddb",
   "metadata": {},
   "outputs": [],
   "source": [
    " for directory in os.listdir('lfw'):\n",
    "        for file in os.listdir(os.path.join('lfw',directory)):\n",
    "            EX_PATH = os.path.join('lfw' , directory , file)\n",
    "            NEW_PATH = os.path.join(NEG_PATH , file)\n",
    "            os.replace(EX_PATH , NEW_PATH)"
   ]
  },
  {
   "cell_type": "code",
   "execution_count": 161,
   "id": "c84d5a53",
   "metadata": {},
   "outputs": [],
   "source": [
    "import uuid"
   ]
  },
  {
   "cell_type": "code",
   "execution_count": 162,
   "id": "069d2f57",
   "metadata": {},
   "outputs": [],
   "source": [
    "cap  = cv2.VideoCapture(0)\n",
    "while cap.isOpened():\n",
    "    ret , frame = cap.read()\n",
    "    \n",
    "    # 250*250\n",
    "    frame = frame[120:120+250,200:200+250,:]\n",
    "    \n",
    "    #anchor collection\n",
    "    if cv2.waitKey(1) & 0XFF == ord('a'):\n",
    "        #create unique file path\n",
    "        imgname = os.path.join(ANC_PATH , '{}.jpg'.format(uuid.uuid1()))\n",
    "        #write out anchor image\n",
    "        cv2.imwrite(imgname,frame)\n",
    "        \n",
    "    #pos collection\n",
    "    if cv2.waitKey(1) & 0XFF == ord('p'):\n",
    "        #create unique file path\n",
    "        imgname = os.path.join(POS_PATH , '{}.jpg'.format(uuid.uuid1()))\n",
    "        #write out anchor image\n",
    "        cv2.imwrite(imgname,frame)\n",
    "        \n",
    "    \n",
    "    \n",
    "    cv2.imshow('Image collection' , frame)\n",
    "    \n",
    "    if cv2.waitKey(1) & 0XFF == ord('q'):\n",
    "        break\n",
    "\n",
    "#release the webcam\n",
    "cap.release()\n",
    "cv2.destroyAllWindows()"
   ]
  },
  {
   "cell_type": "code",
   "execution_count": 163,
   "id": "049c7bb1",
   "metadata": {},
   "outputs": [],
   "source": [
    "anchor = tf.data.Dataset.list_files(ANC_PATH + '\\*.jpg').take(150)\n",
    "positive = tf.data.Dataset.list_files(POS_PATH + '\\*.jpg').take(150)\n",
    "negative = tf.data.Dataset.list_files(NEG_PATH + '\\*.jpg').take(150)"
   ]
  },
  {
   "cell_type": "code",
   "execution_count": 164,
   "id": "e4a33691",
   "metadata": {},
   "outputs": [],
   "source": [
    "dir_test = anchor.as_numpy_iterator()"
   ]
  },
  {
   "cell_type": "code",
   "execution_count": 165,
   "id": "a7c6dadf",
   "metadata": {},
   "outputs": [
    {
     "data": {
      "text/plain": [
       "b'data\\\\anchor\\\\f3e31c3e-3541-11ee-a08d-d8f88368ebcd.jpg'"
      ]
     },
     "execution_count": 165,
     "metadata": {},
     "output_type": "execute_result"
    }
   ],
   "source": [
    "dir_test.next()"
   ]
  },
  {
   "cell_type": "code",
   "execution_count": 166,
   "id": "d2efb6f8",
   "metadata": {},
   "outputs": [],
   "source": [
    "def preprocess(file_path):\n",
    "    \n",
    "    #read in image from file path\n",
    "    byte_img = tf.io.read_file(file_path)\n",
    "    #load in the image\n",
    "    img = tf.io.decode_jpeg(byte_img)\n",
    "    \n",
    "    #resizing to 100*100\n",
    "    img = tf.image.resize(img,(100,100))\n",
    "    #scale between 0 - 1\n",
    "    img = img /255.0\n",
    "    return img"
   ]
  },
  {
   "cell_type": "code",
   "execution_count": 167,
   "id": "1700c604",
   "metadata": {},
   "outputs": [],
   "source": [
    "img = preprocess('data\\\\anchor\\\\e30aa3db-3488-11ee-9086-d8f88368ebcd.jpg')"
   ]
  },
  {
   "cell_type": "code",
   "execution_count": 176,
   "id": "ce7e095e",
   "metadata": {},
   "outputs": [
    {
     "data": {
      "text/plain": [
       "array([[[0.89387256, 0.9409314 , 0.9252451 ],\n",
       "        [0.90539217, 0.9377451 , 0.925     ],\n",
       "        [0.90661764, 0.93308824, 0.90857846],\n",
       "        ...,\n",
       "        [0.34901962, 0.3254902 , 0.34117648],\n",
       "        [0.35196078, 0.32843137, 0.34411764],\n",
       "        [0.3529412 , 0.32941177, 0.34509805]],\n",
       "\n",
       "       [[0.9051471 , 0.9458333 , 0.9411765 ],\n",
       "        [0.9073529 , 0.94191176, 0.93014705],\n",
       "        [0.90882355, 0.94411767, 0.9245098 ],\n",
       "        ...,\n",
       "        [0.31936276, 0.30269608, 0.31936276],\n",
       "        [0.31446078, 0.2977941 , 0.31446078],\n",
       "        [0.31470588, 0.29803923, 0.32058823]],\n",
       "\n",
       "       [[0.9019608 , 0.9411765 , 0.9372549 ],\n",
       "        [0.90588236, 0.94558823, 0.93897057],\n",
       "        [0.90294117, 0.94558823, 0.9286765 ],\n",
       "        ...,\n",
       "        [0.32058823, 0.30980393, 0.33529413],\n",
       "        [0.33700982, 0.3262255 , 0.35171568],\n",
       "        [0.3254902 , 0.31470588, 0.34019607]],\n",
       "\n",
       "       ...,\n",
       "\n",
       "       [[0.89387256, 0.9409314 , 0.93308824],\n",
       "        [0.89191175, 0.9375    , 0.93039215],\n",
       "        [0.8840686 , 0.9237745 , 0.9196078 ],\n",
       "        ...,\n",
       "        [0.4357843 , 0.28088236, 0.24264705],\n",
       "        [0.44632354, 0.29068628, 0.25833333],\n",
       "        [0.45686275, 0.2904412 , 0.2620098 ]],\n",
       "\n",
       "       [[0.89436275, 0.94142157, 0.93357843],\n",
       "        [0.8879902 , 0.935049  , 0.92720586],\n",
       "        [0.8870098 , 0.93259805, 0.9254902 ],\n",
       "        ...,\n",
       "        [0.3970588 , 0.26004902, 0.22720589],\n",
       "        [0.4134804 , 0.26838234, 0.24362744],\n",
       "        [0.45588234, 0.3009804 , 0.27450982]],\n",
       "\n",
       "       [[0.8882353 , 0.9352941 , 0.92745095],\n",
       "        [0.8894608 , 0.9365196 , 0.9286765 ],\n",
       "        [0.89093137, 0.9379902 , 0.93602943],\n",
       "        ...,\n",
       "        [0.4090686 , 0.2757353 , 0.24044117],\n",
       "        [0.43039215, 0.2882353 , 0.25588235],\n",
       "        [0.44191176, 0.2855392 , 0.25980392]]], dtype=float32)"
      ]
     },
     "execution_count": 176,
     "metadata": {},
     "output_type": "execute_result"
    }
   ],
   "source": [
    "img.numpy()"
   ]
  },
  {
   "cell_type": "code",
   "execution_count": 187,
   "id": "2bdb7a07",
   "metadata": {},
   "outputs": [],
   "source": [
    "#label the dataset\n",
    "positives = tf.data.Dataset.zip((anchor,positive,tf.data.Dataset.from_tensor_slices(tf.ones(len(anchor)))))\n",
    "negatives = tf.data.Dataset.zip((anchor,negative,tf.data.Dataset.from_tensor_slices(tf.zeros(len(anchor)))))\n",
    "data = positives.concatenate(negatives)"
   ]
  },
  {
   "cell_type": "code",
   "execution_count": 186,
   "id": "dba3b4d5",
   "metadata": {},
   "outputs": [
    {
     "data": {
      "text/plain": [
       "<_ShuffleDataset element_spec=(TensorSpec(shape=(100, 100, None), dtype=tf.float32, name=None), TensorSpec(shape=(100, 100, None), dtype=tf.float32, name=None), TensorSpec(shape=(), dtype=tf.float32, name=None))>"
      ]
     },
     "execution_count": 186,
     "metadata": {},
     "output_type": "execute_result"
    }
   ],
   "source": [
    "data"
   ]
  },
  {
   "cell_type": "code",
   "execution_count": 178,
   "id": "8a3e450a",
   "metadata": {},
   "outputs": [],
   "source": [
    "smaples = data.as_numpy_iterator()"
   ]
  },
  {
   "cell_type": "code",
   "execution_count": 185,
   "id": "1d3514cd",
   "metadata": {},
   "outputs": [
    {
     "data": {
      "text/plain": [
       "100"
      ]
     },
     "execution_count": 185,
     "metadata": {},
     "output_type": "execute_result"
    }
   ],
   "source": [
    "len(smaples.next()[0])"
   ]
  },
  {
   "cell_type": "code",
   "execution_count": 182,
   "id": "e5b66b03",
   "metadata": {},
   "outputs": [],
   "source": [
    "def preprocess_twin(input_img , validation_img,label):\n",
    "    return(preprocess(input_img) , preprocess(validation_img) , label)"
   ]
  },
  {
   "cell_type": "code",
   "execution_count": 188,
   "id": "cd40ff90",
   "metadata": {},
   "outputs": [],
   "source": [
    "#build dataloader pipeline\n",
    "data = data.map(preprocess_twin)\n",
    "data = data.cache()\n",
    "data = data.shuffle(buffer_size = 1024)"
   ]
  },
  {
   "cell_type": "code",
   "execution_count": 189,
   "id": "3fb527b3",
   "metadata": {},
   "outputs": [],
   "source": [
    "smaples = data.as_numpy_iterator()"
   ]
  },
  {
   "cell_type": "code",
   "execution_count": 193,
   "id": "1388c194",
   "metadata": {},
   "outputs": [
    {
     "data": {
      "text/plain": [
       "100"
      ]
     },
     "execution_count": 193,
     "metadata": {},
     "output_type": "execute_result"
    }
   ],
   "source": [
    "len(smaples.next()[0])"
   ]
  },
  {
   "cell_type": "code",
   "execution_count": 194,
   "id": "6e481032",
   "metadata": {},
   "outputs": [],
   "source": [
    "# training partition\n",
    "train_data = data.take(round(len(data)*.7))\n",
    "train_data = train_data.batch(16)\n",
    "train_data = train_data.prefetch(8)"
   ]
  },
  {
   "cell_type": "code",
   "execution_count": 195,
   "id": "5584cf31",
   "metadata": {},
   "outputs": [],
   "source": [
    "smaples = train_data.as_numpy_iterator()"
   ]
  },
  {
   "cell_type": "code",
   "execution_count": 196,
   "id": "de7694a4",
   "metadata": {},
   "outputs": [
    {
     "data": {
      "text/plain": [
       "16"
      ]
     },
     "execution_count": 196,
     "metadata": {},
     "output_type": "execute_result"
    }
   ],
   "source": [
    "len(smaples.next()[2])"
   ]
  },
  {
   "cell_type": "markdown",
   "id": "487c24ad",
   "metadata": {},
   "source": [
    "test_data = data.skip(round(len(data)*.7))\n",
    "test_data = test_data.take(round(len(data)*.3))"
   ]
  },
  {
   "cell_type": "code",
   "execution_count": 197,
   "id": "af0da86c",
   "metadata": {},
   "outputs": [],
   "source": [
    "test_data = data.skip(round(len(data)*.7))\n",
    "test_data = test_data.take(round(len(data)*.3))\n",
    "test_data = test_data.batch(16)\n",
    "test_data = test_data.prefetch(8)"
   ]
  },
  {
   "cell_type": "code",
   "execution_count": 198,
   "id": "56c26302",
   "metadata": {},
   "outputs": [
    {
     "data": {
      "text/plain": [
       "<_PrefetchDataset element_spec=(TensorSpec(shape=(None, 100, 100, None), dtype=tf.float32, name=None), TensorSpec(shape=(None, 100, 100, None), dtype=tf.float32, name=None), TensorSpec(shape=(None,), dtype=tf.float32, name=None))>"
      ]
     },
     "execution_count": 198,
     "metadata": {},
     "output_type": "execute_result"
    }
   ],
   "source": [
    "test_data"
   ]
  },
  {
   "cell_type": "code",
   "execution_count": 199,
   "id": "80bb82d3",
   "metadata": {},
   "outputs": [
    {
     "name": "stdout",
     "output_type": "stream",
     "text": [
      "KerasTensor(type_spec=TensorSpec(shape=(None, 105, 105, 3), dtype=tf.float32, name='input_image'), name='input_image', description=\"created by layer 'input_image'\")\n"
     ]
    }
   ],
   "source": [
    "inp = Input(shape=(105,105,3) , name = 'input_image')\n",
    "print(inp)"
   ]
  },
  {
   "cell_type": "code",
   "execution_count": 200,
   "id": "07c8766f",
   "metadata": {},
   "outputs": [
    {
     "name": "stdout",
     "output_type": "stream",
     "text": [
      "KerasTensor(type_spec=TensorSpec(shape=(None, 96, 96, 64), dtype=tf.float32, name=None), name='conv2d/Relu:0', description=\"created by layer 'conv2d'\")\n"
     ]
    }
   ],
   "source": [
    "c1 = Conv2D(64,(10,10) , activation='relu')(inp)\n",
    "print(c1)"
   ]
  },
  {
   "cell_type": "code",
   "execution_count": 201,
   "id": "4bba6f71",
   "metadata": {},
   "outputs": [
    {
     "name": "stdout",
     "output_type": "stream",
     "text": [
      "KerasTensor(type_spec=TensorSpec(shape=(None, 48, 48, 64), dtype=tf.float32, name=None), name='max_pooling2d/MaxPool:0', description=\"created by layer 'max_pooling2d'\")\n"
     ]
    }
   ],
   "source": [
    "m1 = MaxPooling2D(64,(2,2),padding='same')(c1)\n",
    "print(m1)"
   ]
  },
  {
   "cell_type": "code",
   "execution_count": 202,
   "id": "0daacfa0",
   "metadata": {},
   "outputs": [
    {
     "name": "stdout",
     "output_type": "stream",
     "text": [
      "KerasTensor(type_spec=TensorSpec(shape=(None, 4096), dtype=tf.float32, name=None), name='dense_4/Sigmoid:0', description=\"created by layer 'dense_4'\")\n"
     ]
    }
   ],
   "source": [
    "c2 = Conv2D(128,(7,7) , activation='relu')(m1)\n",
    "m2 = MaxPooling2D(64,(2,2),padding='same')(c2)\n",
    "c3 = Conv2D(128,(4,4) , activation='relu')(m2)\n",
    "m3 = MaxPooling2D(64,(2,2),padding='same')(c3)    \n",
    "c4 = Conv2D(128,(4,4) , activation='relu')(m3)\n",
    "f1 = Flatten()(c4)\n",
    "d1 = Dense(4096,activation='sigmoid')(f1)\n",
    "print(d1)"
   ]
  },
  {
   "cell_type": "code",
   "execution_count": 203,
   "id": "618a6cb5",
   "metadata": {},
   "outputs": [],
   "source": [
    "mod  = Model(inputs = [inp], outputs =[d1] ,name ='embedding')"
   ]
  },
  {
   "cell_type": "code",
   "execution_count": 204,
   "id": "2fe091b7",
   "metadata": {},
   "outputs": [
    {
     "name": "stdout",
     "output_type": "stream",
     "text": [
      "Model: \"embedding\"\n",
      "_________________________________________________________________\n",
      " Layer (type)                Output Shape              Param #   \n",
      "=================================================================\n",
      " input_image (InputLayer)    [(None, 105, 105, 3)]     0         \n",
      "                                                                 \n",
      " conv2d (Conv2D)             (None, 96, 96, 64)        19264     \n",
      "                                                                 \n",
      " max_pooling2d (MaxPooling2  (None, 48, 48, 64)        0         \n",
      " D)                                                              \n",
      "                                                                 \n",
      " conv2d_1 (Conv2D)           (None, 42, 42, 128)       401536    \n",
      "                                                                 \n",
      " max_pooling2d_1 (MaxPoolin  (None, 21, 21, 128)       0         \n",
      " g2D)                                                            \n",
      "                                                                 \n",
      " conv2d_2 (Conv2D)           (None, 18, 18, 128)       262272    \n",
      "                                                                 \n",
      " max_pooling2d_2 (MaxPoolin  (None, 9, 9, 128)         0         \n",
      " g2D)                                                            \n",
      "                                                                 \n",
      " conv2d_3 (Conv2D)           (None, 6, 6, 128)         262272    \n",
      "                                                                 \n",
      " flatten (Flatten)           (None, 4608)              0         \n",
      "                                                                 \n",
      " dense_4 (Dense)             (None, 4096)              18878464  \n",
      "                                                                 \n",
      "=================================================================\n",
      "Total params: 19823808 (75.62 MB)\n",
      "Trainable params: 19823808 (75.62 MB)\n",
      "Non-trainable params: 0 (0.00 Byte)\n",
      "_________________________________________________________________\n"
     ]
    }
   ],
   "source": [
    "mod.summary()"
   ]
  },
  {
   "cell_type": "code",
   "execution_count": 205,
   "id": "76c79c81",
   "metadata": {},
   "outputs": [],
   "source": [
    "def make_embedding():\n",
    "    inp = Input(shape=(100,100,3) , name ='input_image')\n",
    "    #first block\n",
    "    c1 = Conv2D(64,(10,10) , activation='relu')(inp)\n",
    "    m1 = MaxPooling2D(64,(2,2),padding='same')(c1)\n",
    "    \n",
    "    #second block\n",
    "    c2 = Conv2D(128,(7,7) , activation='relu')(m1)\n",
    "    m2 = MaxPooling2D(64,(2,2),padding='same')(c2)\n",
    "    \n",
    "    #3rd block\n",
    "    c3 = Conv2D(128,(4,4) , activation='relu')(m2)\n",
    "    m3 = MaxPooling2D(64,(2,2),padding='same')(c3)\n",
    "    \n",
    "    #final embedding block\n",
    "    \n",
    "    c4 = Conv2D(128,(4,4) , activation='relu')(m3)\n",
    "    f1 = Flatten()(c4)\n",
    "    d1 = Dense(4096,activation='sigmoid')(f1)\n",
    "    \n",
    "    return Model(inputs = [inp], outputs =[d1] ,name ='embedding')"
   ]
  },
  {
   "cell_type": "code",
   "execution_count": 206,
   "id": "fdae15de",
   "metadata": {},
   "outputs": [],
   "source": [
    "embedding = make_embedding()"
   ]
  },
  {
   "cell_type": "code",
   "execution_count": 207,
   "id": "40f5319f",
   "metadata": {},
   "outputs": [
    {
     "name": "stdout",
     "output_type": "stream",
     "text": [
      "Model: \"embedding\"\n",
      "_________________________________________________________________\n",
      " Layer (type)                Output Shape              Param #   \n",
      "=================================================================\n",
      " input_image (InputLayer)    [(None, 100, 100, 3)]     0         \n",
      "                                                                 \n",
      " conv2d_4 (Conv2D)           (None, 91, 91, 64)        19264     \n",
      "                                                                 \n",
      " max_pooling2d_3 (MaxPoolin  (None, 46, 46, 64)        0         \n",
      " g2D)                                                            \n",
      "                                                                 \n",
      " conv2d_5 (Conv2D)           (None, 40, 40, 128)       401536    \n",
      "                                                                 \n",
      " max_pooling2d_4 (MaxPoolin  (None, 20, 20, 128)       0         \n",
      " g2D)                                                            \n",
      "                                                                 \n",
      " conv2d_6 (Conv2D)           (None, 17, 17, 128)       262272    \n",
      "                                                                 \n",
      " max_pooling2d_5 (MaxPoolin  (None, 9, 9, 128)         0         \n",
      " g2D)                                                            \n",
      "                                                                 \n",
      " conv2d_7 (Conv2D)           (None, 6, 6, 128)         262272    \n",
      "                                                                 \n",
      " flatten_1 (Flatten)         (None, 4608)              0         \n",
      "                                                                 \n",
      " dense_5 (Dense)             (None, 4096)              18878464  \n",
      "                                                                 \n",
      "=================================================================\n",
      "Total params: 19823808 (75.62 MB)\n",
      "Trainable params: 19823808 (75.62 MB)\n",
      "Non-trainable params: 0 (0.00 Byte)\n",
      "_________________________________________________________________\n"
     ]
    }
   ],
   "source": [
    "embedding.summary()"
   ]
  },
  {
   "cell_type": "code",
   "execution_count": 208,
   "id": "e5dde15e",
   "metadata": {},
   "outputs": [],
   "source": [
    "#siamese L1 distance class\n",
    "class L1Dist(Layer):\n",
    "    def __init__(self,**kwargs):\n",
    "        super().__init__()\n",
    "        \n",
    "        \n",
    "    def call(self,input_embedding,validation_embedding):\n",
    "        return tf.math.abs(input_embedding - validation_embedding)\n",
    "    "
   ]
  },
  {
   "cell_type": "code",
   "execution_count": 209,
   "id": "19b5762a",
   "metadata": {},
   "outputs": [],
   "source": [
    "l1  = L1Dist()"
   ]
  },
  {
   "cell_type": "code",
   "execution_count": 210,
   "id": "e41f19a5",
   "metadata": {},
   "outputs": [
    {
     "data": {
      "text/plain": [
       "<__main__.L1Dist at 0x23a2b362b90>"
      ]
     },
     "execution_count": 210,
     "metadata": {},
     "output_type": "execute_result"
    }
   ],
   "source": [
    "l1"
   ]
  },
  {
   "cell_type": "code",
   "execution_count": 211,
   "id": "7d785bf3",
   "metadata": {},
   "outputs": [],
   "source": [
    "def make_siamese_model():\n",
    "    \n",
    "    #Anchor image input in network\n",
    "    input_image = Input(name='input_img' , shape=(100,100,3))\n",
    "    \n",
    "    #validation image in network\n",
    "    validation_image = Input(name='validation_img' ,shape=(100,100,3))\n",
    "    \n",
    "    # combine siame  distance components\n",
    "    siamese_layer = L1Dist()\n",
    "    siamese_layer._name = 'distance'\n",
    "    distances = siamese_layer(embedding(input_image) , embedding(validation_image))\n",
    "    \n",
    "    #classification layer\n",
    "    classifier = Dense(1,activation='sigmoid')(distances)\n",
    "    \n",
    "    return Model(inputs=[input_image,validation_image],outputs=classifier , name='SiameseNetwork')"
   ]
  },
  {
   "cell_type": "code",
   "execution_count": 213,
   "id": "4c354c89",
   "metadata": {},
   "outputs": [],
   "source": [
    "siamese_model = make_siamese_model()"
   ]
  },
  {
   "cell_type": "markdown",
   "id": "ab690013",
   "metadata": {},
   "source": []
  },
  {
   "cell_type": "code",
   "execution_count": 214,
   "id": "7465d768",
   "metadata": {},
   "outputs": [
    {
     "name": "stdout",
     "output_type": "stream",
     "text": [
      "Model: \"SiameseNetwork\"\n",
      "__________________________________________________________________________________________________\n",
      " Layer (type)                Output Shape                 Param #   Connected to                  \n",
      "==================================================================================================\n",
      " input_img (InputLayer)      [(None, 100, 100, 3)]        0         []                            \n",
      "                                                                                                  \n",
      " validation_img (InputLayer  [(None, 100, 100, 3)]        0         []                            \n",
      " )                                                                                                \n",
      "                                                                                                  \n",
      " embedding (Functional)      (None, 4096)                 1982380   ['input_img[0][0]',           \n",
      "                                                          8          'validation_img[0][0]']      \n",
      "                                                                                                  \n",
      " distance (L1Dist)           (None, 4096)                 0         ['embedding[2][0]',           \n",
      "                                                                     'embedding[3][0]']           \n",
      "                                                                                                  \n",
      " dense_7 (Dense)             (None, 1)                    4097      ['distance[0][0]']            \n",
      "                                                                                                  \n",
      "==================================================================================================\n",
      "Total params: 19827905 (75.64 MB)\n",
      "Trainable params: 19827905 (75.64 MB)\n",
      "Non-trainable params: 0 (0.00 Byte)\n",
      "__________________________________________________________________________________________________\n"
     ]
    }
   ],
   "source": [
    "siamese_model.summary()"
   ]
  },
  {
   "cell_type": "code",
   "execution_count": 215,
   "id": "5cd23036",
   "metadata": {},
   "outputs": [],
   "source": [
    "binary_cross_loss = tf.losses.BinaryCrossentropy()"
   ]
  },
  {
   "cell_type": "code",
   "execution_count": 216,
   "id": "848715d5",
   "metadata": {},
   "outputs": [],
   "source": [
    "opt = tf.keras.optimizers.Adam(1e-4)"
   ]
  },
  {
   "cell_type": "code",
   "execution_count": 217,
   "id": "241d30ac",
   "metadata": {},
   "outputs": [],
   "source": [
    "checkpoint_dir = './training_checkpounts'\n",
    "checkpoint_prefix = os.path.join(checkpoint_dir , 'ckpt')\n",
    "checkpoint = tf.train.Checkpoint(opt =opt , siamese_model = siamese_model)"
   ]
  },
  {
   "cell_type": "code",
   "execution_count": 218,
   "id": "47b9b742",
   "metadata": {},
   "outputs": [],
   "source": [
    "test_batch = train_data.as_numpy_iterator()\n",
    "batch1 = test_batch.next()"
   ]
  },
  {
   "cell_type": "code",
   "execution_count": 230,
   "id": "010530fb",
   "metadata": {},
   "outputs": [
    {
     "data": {
      "text/plain": [
       "(array([[[[0.9512255 , 0.98651963, 0.9669118 ],\n",
       "          [0.94289213, 0.97818625, 0.9585784 ],\n",
       "          [0.94730395, 0.98259807, 0.9629902 ],\n",
       "          ...,\n",
       "          [0.89436275, 0.9051471 , 0.8865196 ],\n",
       "          [0.89093137, 0.9105392 , 0.89485294],\n",
       "          [0.8990196 , 0.9147059 , 0.9107843 ]],\n",
       " \n",
       "         [[0.95955884, 0.98308825, 0.967402  ],\n",
       "          [0.95      , 0.9823529 , 0.9637255 ],\n",
       "          [0.9487745 , 0.98406863, 0.9625    ],\n",
       "          ...,\n",
       "          [0.88259804, 0.90392154, 0.88161767],\n",
       "          [0.8857843 , 0.90857846, 0.8928922 ],\n",
       "          [0.88529414, 0.90882355, 0.9009804 ]],\n",
       " \n",
       "         [[0.9588235 , 0.9823529 , 0.96666664],\n",
       "          [0.95906866, 0.98259807, 0.9669118 ],\n",
       "          [0.94411767, 0.9794118 , 0.9519608 ],\n",
       "          ...,\n",
       "          [0.88039213, 0.9017157 , 0.8838235 ],\n",
       "          [0.8843137 , 0.904902  , 0.8892157 ],\n",
       "          [0.88504905, 0.90857846, 0.9007353 ]],\n",
       " \n",
       "         ...,\n",
       " \n",
       "         [[0.92941177, 0.9764706 , 0.9745098 ],\n",
       "          [0.93014705, 0.9772059 , 0.9737745 ],\n",
       "          [0.9362745 , 0.98333335, 0.9754902 ],\n",
       "          ...,\n",
       "          [0.77254903, 0.78039217, 0.76862746],\n",
       "          [0.77009803, 0.7801471 , 0.76617646],\n",
       "          [0.7656863 , 0.7764706 , 0.7617647 ]],\n",
       " \n",
       "         [[0.9384804 , 0.98259807, 0.96887255],\n",
       "          [0.9401961 , 0.9843137 , 0.9705882 ],\n",
       "          [0.9431372 , 0.985049  , 0.97794116],\n",
       "          ...,\n",
       "          [0.7708333 , 0.7764706 , 0.7588235 ],\n",
       "          [0.7595588 , 0.76960784, 0.7497549 ],\n",
       "          [0.7607843 , 0.78039217, 0.75686276]],\n",
       " \n",
       "         [[0.9411765 , 0.9764706 , 0.9647059 ],\n",
       "          [0.9458333 , 0.98112744, 0.96936274],\n",
       "          [0.9343137 , 0.9754902 , 0.9607843 ],\n",
       "          ...,\n",
       "          [0.77916664, 0.7752451 , 0.7595588 ],\n",
       "          [0.7737745 , 0.7742647 , 0.7637255 ],\n",
       "          [0.7708333 , 0.77230394, 0.7637255 ]]],\n",
       " \n",
       " \n",
       "        [[[0.7637255 , 0.7676471 , 0.7754902 ],\n",
       "          [0.7610294 , 0.76887256, 0.764951  ],\n",
       "          [0.7610294 , 0.76887256, 0.764951  ],\n",
       "          ...,\n",
       "          [0.6784314 , 0.6745098 , 0.6607843 ],\n",
       "          [0.6813725 , 0.67745095, 0.6696078 ],\n",
       "          [0.6911765 , 0.6872549 , 0.67941177]],\n",
       " \n",
       "         [[0.7625    , 0.76936275, 0.7762255 ],\n",
       "          [0.7561275 , 0.7637255 , 0.7678922 ],\n",
       "          [0.75539213, 0.7637255 , 0.75980395],\n",
       "          ...,\n",
       "          [0.6870098 , 0.6791667 , 0.685049  ],\n",
       "          [0.6855392 , 0.67769605, 0.68357843],\n",
       "          [0.68921566, 0.6813725 , 0.6872549 ]],\n",
       " \n",
       "         [[0.7526961 , 0.7683824 , 0.77230394],\n",
       "          [0.75171566, 0.76740193, 0.7708333 ],\n",
       "          [0.7531863 , 0.76740193, 0.764951  ],\n",
       "          ...,\n",
       "          [0.6872549 , 0.67941177, 0.6852941 ],\n",
       "          [0.6862745 , 0.6784314 , 0.6843137 ],\n",
       "          [0.68921566, 0.6813725 , 0.6872549 ]],\n",
       " \n",
       "         ...,\n",
       " \n",
       "         [[0.74191177, 0.75759804, 0.76936275],\n",
       "          [0.7414216 , 0.75710785, 0.76887256],\n",
       "          [0.74828434, 0.7639706 , 0.7757353 ],\n",
       "          ...,\n",
       "          [0.6129902 , 0.60906863, 0.5997549 ],\n",
       "          [0.6164216 , 0.6102941 , 0.60906863],\n",
       "          [0.62352943, 0.6156863 , 0.61960787]],\n",
       " \n",
       "         [[0.7411765 , 0.75686276, 0.76862746],\n",
       "          [0.7382353 , 0.75392157, 0.7656863 ],\n",
       "          [0.7414216 , 0.75710785, 0.76887256],\n",
       "          ...,\n",
       "          [0.6137255 , 0.6098039 , 0.592402  ],\n",
       "          [0.6186274 , 0.61470586, 0.60539216],\n",
       "          [0.61764705, 0.6127451 , 0.60784316]],\n",
       " \n",
       "         [[0.74607843, 0.7617647 , 0.7735294 ],\n",
       "          [0.7441176 , 0.75980395, 0.77156866],\n",
       "          [0.74338233, 0.7590686 , 0.7708333 ],\n",
       "          ...,\n",
       "          [0.61495095, 0.6110294 , 0.592402  ],\n",
       "          [0.6117647 , 0.60784316, 0.5980392 ],\n",
       "          [0.6156863 , 0.6117647 , 0.6039216 ]]],\n",
       " \n",
       " \n",
       "        [[[0.9080882 , 0.9512255 , 0.9198529 ],\n",
       "          [0.90416664, 0.94730395, 0.91593134],\n",
       "          [0.89436275, 0.9404412 , 0.90318626],\n",
       "          ...,\n",
       "          [0.4735294 , 0.425     , 0.425     ],\n",
       "          [0.47843137, 0.4387255 , 0.43504903],\n",
       "          [0.47941175, 0.44607842, 0.44117647]],\n",
       " \n",
       "         [[0.9078431 , 0.94534314, 0.9196078 ],\n",
       "          [0.90882355, 0.9470588 , 0.91862744],\n",
       "          [0.90931374, 0.94534314, 0.91764706],\n",
       "          ...,\n",
       "          [0.45833334, 0.41936275, 0.4254902 ],\n",
       "          [0.49926472, 0.4764706 , 0.46642157],\n",
       "          [0.5137255 , 0.5019608 , 0.48186275]],\n",
       " \n",
       "         [[0.91495097, 0.9553922 , 0.94289213],\n",
       "          [0.9147059 , 0.95      , 0.9362745 ],\n",
       "          [0.90416664, 0.9372549 , 0.9242647 ],\n",
       "          ...,\n",
       "          [0.45441177, 0.40612745, 0.42990196],\n",
       "          [0.46372548, 0.42034313, 0.42058823],\n",
       "          [0.47892156, 0.44607842, 0.43504903]],\n",
       " \n",
       "         ...,\n",
       " \n",
       "         [[0.88529414, 0.9411765 , 0.9284314 ],\n",
       "          [0.8875    , 0.93259805, 0.9242647 ],\n",
       "          [0.8887255 , 0.9257353 , 0.9218137 ],\n",
       "          ...,\n",
       "          [0.42230392, 0.2514706 , 0.23014706],\n",
       "          [0.43210784, 0.26789215, 0.2485294 ],\n",
       "          [0.4370098 , 0.2764706 , 0.25686276]],\n",
       " \n",
       "         [[0.8857843 , 0.93284315, 0.9171569 ],\n",
       "          [0.8904412 , 0.9340686 , 0.9191176 ],\n",
       "          [0.8897059 , 0.92965686, 0.9235294 ],\n",
       "          ...,\n",
       "          [0.46838236, 0.29485294, 0.2625    ],\n",
       "          [0.46960783, 0.3002451 , 0.27132353],\n",
       "          [0.4375    , 0.27181372, 0.24338235]],\n",
       " \n",
       "         [[0.89191175, 0.935049  , 0.9193627 ],\n",
       "          [0.8882353 , 0.9313725 , 0.91568625],\n",
       "          [0.8872549 , 0.92745095, 0.92058825],\n",
       "          ...,\n",
       "          [0.47720587, 0.29485294, 0.26544118],\n",
       "          [0.4610294 , 0.2904412 , 0.26691177],\n",
       "          [0.4406863 , 0.2720588 , 0.2485294 ]]],\n",
       " \n",
       " \n",
       "        ...,\n",
       " \n",
       " \n",
       "        [[[0.81960785, 0.827451  , 0.8235294 ],\n",
       "          [0.8235294 , 0.83137256, 0.827451  ],\n",
       "          [0.8303922 , 0.8382353 , 0.83431375],\n",
       "          ...,\n",
       "          [0.73333335, 0.7254902 , 0.7352941 ],\n",
       "          [0.7343137 , 0.7264706 , 0.73039216],\n",
       "          [0.7343137 , 0.7264706 , 0.73039216]],\n",
       " \n",
       "         [[0.82254905, 0.82941175, 0.82843137],\n",
       "          [0.8235294 , 0.8303922 , 0.82941175],\n",
       "          [0.8264706 , 0.83112746, 0.8367647 ],\n",
       "          ...,\n",
       "          [0.7343137 , 0.7264706 , 0.7382353 ],\n",
       "          [0.7411765 , 0.73333335, 0.7406863 ],\n",
       "          [0.74019605, 0.7323529 , 0.7382353 ]],\n",
       " \n",
       "         [[0.8235294 , 0.827451  , 0.8352941 ],\n",
       "          [0.8264706 , 0.8303922 , 0.8382353 ],\n",
       "          [0.8272059 , 0.83112746, 0.8389706 ],\n",
       "          ...,\n",
       "          [0.7375    , 0.7296569 , 0.7414216 ],\n",
       "          [0.73946077, 0.7316176 , 0.74338233],\n",
       "          [0.7379902 , 0.73014706, 0.74191177]],\n",
       " \n",
       "         ...,\n",
       " \n",
       "         [[0.80588233, 0.81960785, 0.8382353 ],\n",
       "          [0.8039216 , 0.82058823, 0.83235294],\n",
       "          [0.80759805, 0.8242647 , 0.8360294 ],\n",
       "          ...,\n",
       "          [0.67965686, 0.6718137 , 0.67720586],\n",
       "          [0.67745095, 0.6718137 , 0.6691176 ],\n",
       "          [0.68210787, 0.67720586, 0.6723039 ]],\n",
       " \n",
       "         [[0.8       , 0.81960785, 0.83235294],\n",
       "          [0.8009804 , 0.82058823, 0.83235294],\n",
       "          [0.80490196, 0.8245098 , 0.8362745 ],\n",
       "          ...,\n",
       "          [0.66838235, 0.66495097, 0.66813725],\n",
       "          [0.6720588 , 0.6642157 , 0.66813725],\n",
       "          [0.6752451 , 0.66740197, 0.67132354]],\n",
       " \n",
       "         [[0.8039216 , 0.81960785, 0.83137256],\n",
       "          [0.8039216 , 0.81960785, 0.83137256],\n",
       "          [0.8068628 , 0.82254905, 0.83431375],\n",
       "          ...,\n",
       "          [0.672549  , 0.67058825, 0.67941177],\n",
       "          [0.66568625, 0.6578431 , 0.6696078 ],\n",
       "          [0.6735294 , 0.66568625, 0.6696078 ]]],\n",
       " \n",
       " \n",
       "        [[[0.82034314, 0.8360294 , 0.83210784],\n",
       "          [0.827451  , 0.83431375, 0.8333333 ],\n",
       "          [0.83112746, 0.83504903, 0.84289217],\n",
       "          ...,\n",
       "          [0.7411765 , 0.73333335, 0.74509805],\n",
       "          [0.74215686, 0.7343137 , 0.74607843],\n",
       "          [0.7411765 , 0.73333335, 0.74509805]],\n",
       " \n",
       "         [[0.83235294, 0.8382353 , 0.8352941 ],\n",
       "          [0.82843137, 0.83431375, 0.83137256],\n",
       "          [0.82843137, 0.83210784, 0.8372549 ],\n",
       "          ...,\n",
       "          [0.7316176 , 0.7257353 , 0.73063725],\n",
       "          [0.74019605, 0.7343137 , 0.74509805],\n",
       "          [0.7362745 , 0.73039216, 0.7411765 ]],\n",
       " \n",
       "         [[0.83431375, 0.83431375, 0.83431375],\n",
       "          [0.83431375, 0.83431375, 0.83431375],\n",
       "          [0.8303922 , 0.8303922 , 0.83186275],\n",
       "          ...,\n",
       "          [0.7294118 , 0.7294118 , 0.72990197],\n",
       "          [0.7409314 , 0.7409314 , 0.7473039 ],\n",
       "          [0.74313724, 0.74313724, 0.7509804 ]],\n",
       " \n",
       "         ...,\n",
       " \n",
       "         [[0.82034314, 0.8419118 , 0.84289217],\n",
       "          [0.8154412 , 0.8375    , 0.8382353 ],\n",
       "          [0.8117647 , 0.8352941 , 0.8352941 ],\n",
       "          ...,\n",
       "          [0.68602943, 0.68210787, 0.6742647 ],\n",
       "          [0.6789216 , 0.675     , 0.6671569 ],\n",
       "          [0.68235296, 0.6784314 , 0.67058825]],\n",
       " \n",
       "         [[0.8254902 , 0.8352941 , 0.8333333 ],\n",
       "          [0.81642157, 0.83259803, 0.83186275],\n",
       "          [0.8208333 , 0.8384804 , 0.84142154],\n",
       "          ...,\n",
       "          [0.68210787, 0.6781863 , 0.67034316],\n",
       "          [0.6811274 , 0.67720586, 0.6693627 ],\n",
       "          [0.6764706 , 0.6696078 , 0.67058825]],\n",
       " \n",
       "         [[0.8245098 , 0.83235294, 0.82843137],\n",
       "          [0.82254905, 0.83235294, 0.8303922 ],\n",
       "          [0.82254905, 0.8382353 , 0.8421569 ],\n",
       "          ...,\n",
       "          [0.6752451 , 0.6752451 , 0.66740197],\n",
       "          [0.6784314 , 0.6784314 , 0.6764706 ],\n",
       "          [0.68039215, 0.68039215, 0.68039215]]],\n",
       " \n",
       " \n",
       "        [[[0.9394608 , 0.98259807, 0.9625    ],\n",
       "          [0.92965686, 0.9727941 , 0.94289213],\n",
       "          [0.92058825, 0.967402  , 0.9286765 ],\n",
       "          ...,\n",
       "          [0.88235295, 0.8931373 , 0.8784314 ],\n",
       "          [0.8840686 , 0.90955883, 0.88308823],\n",
       "          [0.8742647 , 0.9017157 , 0.8742647 ]],\n",
       " \n",
       "         [[0.9404412 , 0.98357844, 0.96004903],\n",
       "          [0.93921566, 0.98333335, 0.95      ],\n",
       "          [0.9242647 , 0.97132355, 0.92769605],\n",
       "          ...,\n",
       "          [0.8833333 , 0.89411765, 0.87352943],\n",
       "          [0.88504905, 0.9046569 , 0.88039213],\n",
       "          [0.8762255 , 0.9017157 , 0.8742647 ]],\n",
       " \n",
       "         [[0.94436276, 0.9875    , 0.9639706 ],\n",
       "          [0.93921566, 0.9823529 , 0.95098037],\n",
       "          [0.9286765 , 0.9727941 , 0.9394608 ],\n",
       "          ...,\n",
       "          [0.8715686 , 0.89485294, 0.875     ],\n",
       "          [0.8781863 , 0.90367645, 0.87647057],\n",
       "          [0.8757353 , 0.9012255 , 0.8737745 ]],\n",
       " \n",
       "         ...,\n",
       " \n",
       "         [[0.9313725 , 0.97156864, 0.9647059 ],\n",
       "          [0.92745095, 0.9705882 , 0.95490193],\n",
       "          [0.93333334, 0.9786765 , 0.9629902 ],\n",
       "          ...,\n",
       "          [0.7526961 , 0.7727941 , 0.7504902 ],\n",
       "          [0.75661767, 0.7767157 , 0.7529412 ],\n",
       "          [0.77156866, 0.7823529 , 0.75686276]],\n",
       " \n",
       "         [[0.9343137 , 0.97745097, 0.9617647 ],\n",
       "          [0.93333334, 0.9764706 , 0.9607843 ],\n",
       "          [0.93259805, 0.9757353 , 0.96004903],\n",
       "          ...,\n",
       "          [0.75686276, 0.7776961 , 0.7612745 ],\n",
       "          [0.75686276, 0.7776961 , 0.75980395],\n",
       "          [0.76666665, 0.7745098 , 0.7607843 ]],\n",
       " \n",
       "         [[0.9316176 , 0.9786765 , 0.9629902 ],\n",
       "          [0.9352941 , 0.97843134, 0.9627451 ],\n",
       "          [0.9411765 , 0.97843134, 0.96568626],\n",
       "          ...,\n",
       "          [0.7531863 , 0.7737745 , 0.76004905],\n",
       "          [0.7529412 , 0.7705882 , 0.7656863 ],\n",
       "          [0.7754902 , 0.78333336, 0.77156866]]]], dtype=float32),\n",
       " array([[[[0.8370098 , 0.8370098 , 0.8448529 ],\n",
       "          [0.8401961 , 0.8401961 , 0.8480392 ],\n",
       "          [0.83161765, 0.83161765, 0.8394608 ],\n",
       "          ...,\n",
       "          [0.7411765 , 0.73333335, 0.74509805],\n",
       "          [0.7438725 , 0.7360294 , 0.74191177],\n",
       "          [0.7509804 , 0.74313724, 0.7470588 ]],\n",
       " \n",
       "         [[0.8379902 , 0.8379902 , 0.84583336],\n",
       "          [0.8352941 , 0.8352941 , 0.84313726],\n",
       "          [0.8384804 , 0.8384804 , 0.8448529 ],\n",
       "          ...,\n",
       "          [0.74338233, 0.7355392 , 0.7438725 ],\n",
       "          [0.74019605, 0.7323529 , 0.7362745 ],\n",
       "          [0.74509805, 0.7372549 , 0.7411765 ]],\n",
       " \n",
       "         [[0.8372549 , 0.8372549 , 0.8392157 ],\n",
       "          [0.8384804 , 0.8384804 , 0.84044117],\n",
       "          [0.8384804 , 0.8384804 , 0.8389706 ],\n",
       "          ...,\n",
       "          [0.7411765 , 0.73333335, 0.7372549 ],\n",
       "          [0.74019605, 0.7323529 , 0.7362745 ],\n",
       "          [0.7531863 , 0.74534315, 0.7492647 ]],\n",
       " \n",
       "         ...,\n",
       " \n",
       "         [[0.81666666, 0.8352941 , 0.845098  ],\n",
       "          [0.8161765 , 0.8352941 , 0.8448529 ],\n",
       "          [0.81764704, 0.8382353 , 0.84705883],\n",
       "          ...,\n",
       "          [0.68308824, 0.6816176 , 0.6779412 ],\n",
       "          [0.6852941 , 0.67941177, 0.68235296],\n",
       "          [0.6813725 , 0.6754902 , 0.68039215]],\n",
       " \n",
       "         [[0.8254902 , 0.83235294, 0.8392157 ],\n",
       "          [0.8218137 , 0.8375    , 0.84142154],\n",
       "          [0.8154412 , 0.8330882 , 0.8360294 ],\n",
       "          ...,\n",
       "          [0.6813725 , 0.6754902 , 0.6784314 ],\n",
       "          [0.6791667 , 0.67769605, 0.6784314 ],\n",
       "          [0.6754902 , 0.6754902 , 0.68333334]],\n",
       " \n",
       "         [[0.83455884, 0.83455884, 0.842402  ],\n",
       "          [0.8257353 , 0.82965684, 0.8375    ],\n",
       "          [0.81960785, 0.83235294, 0.8372549 ],\n",
       "          ...,\n",
       "          [0.68235296, 0.6764706 , 0.67941177],\n",
       "          [0.6786765 , 0.6786765 , 0.6786765 ],\n",
       "          [0.6745098 , 0.6745098 , 0.6745098 ]]],\n",
       " \n",
       " \n",
       "        [[[0.8666667 , 0.87058824, 0.8784314 ],\n",
       "          [0.8571078 , 0.8610294 , 0.8688725 ],\n",
       "          [0.845098  , 0.85784316, 0.8627451 ],\n",
       "          ...,\n",
       "          [0.75490195, 0.75490195, 0.75490195],\n",
       "          [0.7504902 , 0.7504902 , 0.7504902 ],\n",
       "          [0.75980395, 0.75980395, 0.75980395]],\n",
       " \n",
       "         [[0.8568627 , 0.86764705, 0.8607843 ],\n",
       "          [0.8509804 , 0.8666667 , 0.8627451 ],\n",
       "          [0.8517157 , 0.86740196, 0.8634804 ],\n",
       "          ...,\n",
       "          [0.7526961 , 0.7526961 , 0.75465685],\n",
       "          [0.7519608 , 0.7519608 , 0.75392157],\n",
       "          [0.7622549 , 0.7622549 , 0.77009803]],\n",
       " \n",
       "         [[0.85490197, 0.8745098 , 0.85882354],\n",
       "          [0.8480392 , 0.86960787, 0.8568627 ],\n",
       "          [0.845098  , 0.8666667 , 0.85833335],\n",
       "          ...,\n",
       "          [0.7519608 , 0.7519608 , 0.75980395],\n",
       "          [0.75710785, 0.75710785, 0.764951  ],\n",
       "          [0.7627451 , 0.7627451 , 0.7705882 ]],\n",
       " \n",
       "         ...,\n",
       " \n",
       "         [[0.8382353 , 0.8568627 , 0.8686274 ],\n",
       "          [0.839951  , 0.8595588 , 0.8713235 ],\n",
       "          [0.8333333 , 0.8617647 , 0.87058824],\n",
       "          ...,\n",
       "          [0.70416665, 0.69730395, 0.6982843 ],\n",
       "          [0.70490193, 0.69803923, 0.6990196 ],\n",
       "          [0.7019608 , 0.69509804, 0.6960784 ]],\n",
       " \n",
       "         [[0.8477941 , 0.8546569 , 0.8693628 ],\n",
       "          [0.8401961 , 0.85588235, 0.86764705],\n",
       "          [0.8389706 , 0.85563725, 0.86740196],\n",
       "          ...,\n",
       "          [0.7019608 , 0.69803923, 0.6843137 ],\n",
       "          [0.7019608 , 0.69803923, 0.6843137 ],\n",
       "          [0.7029412 , 0.6990196 , 0.6852941 ]],\n",
       " \n",
       "         [[0.8509804 , 0.85490197, 0.87058824],\n",
       "          [0.8490196 , 0.85588235, 0.87058824],\n",
       "          [0.84313726, 0.85882354, 0.87058824],\n",
       "          ...,\n",
       "          [0.7019608 , 0.69803923, 0.68235296],\n",
       "          [0.69803923, 0.69411767, 0.6784314 ],\n",
       "          [0.69803923, 0.69411767, 0.6784314 ]]],\n",
       " \n",
       " \n",
       "        [[[0.99215686, 1.        , 0.99607843],\n",
       "          [0.99485296, 1.        , 0.9977941 ],\n",
       "          [1.        , 1.        , 1.        ],\n",
       "          ...,\n",
       "          [0.9585784 , 0.9968137 , 0.9987745 ],\n",
       "          [0.9644608 , 0.9997549 , 0.98995095],\n",
       "          [0.98039216, 1.        , 0.99607843]],\n",
       " \n",
       "         [[0.99313724, 0.9990196 , 0.99607843],\n",
       "          [0.99289215, 0.9992647 , 0.99607843],\n",
       "          [0.9941176 , 0.99607843, 0.99509805],\n",
       "          ...,\n",
       "          [0.9588235 , 0.9970588 , 0.9990196 ],\n",
       "          [0.96862745, 1.        , 0.9941176 ],\n",
       "          [0.9745098 , 1.        , 0.99215686]],\n",
       " \n",
       "         [[0.99607843, 0.99607843, 0.99607843],\n",
       "          [0.9943628 , 0.9963235 , 0.99534315],\n",
       "          [0.9889706 , 0.99534315, 0.99215686],\n",
       "          ...,\n",
       "          [0.9602941 , 0.9992647 , 0.9990196 ],\n",
       "          [0.96789217, 1.        , 0.99852943],\n",
       "          [0.96862745, 1.        , 0.9980392 ]],\n",
       " \n",
       "         ...,\n",
       " \n",
       "         [[0.99607843, 0.99607843, 0.99607843],\n",
       "          [0.99607843, 0.99607843, 0.99607843],\n",
       "          [0.99607843, 0.99607843, 0.99607843],\n",
       "          ...,\n",
       "          [0.8232843 , 0.84681374, 0.84681374],\n",
       "          [0.8215686 , 0.845098  , 0.845098  ],\n",
       "          [0.82254905, 0.8401961 , 0.8490196 ]],\n",
       " \n",
       "         [[0.99607843, 0.99607843, 0.99607843],\n",
       "          [0.99607843, 0.99607843, 0.99607843],\n",
       "          [0.99607843, 0.99607843, 0.99607843],\n",
       "          ...,\n",
       "          [0.82254905, 0.84607846, 0.84607846],\n",
       "          [0.8156863 , 0.8392157 , 0.8392157 ],\n",
       "          [0.82279414, 0.84632355, 0.84632355]],\n",
       " \n",
       "         [[0.99607843, 0.99607843, 0.99607843],\n",
       "          [0.99607843, 0.99607843, 0.99607843],\n",
       "          [0.99607843, 0.99607843, 0.99607843],\n",
       "          ...,\n",
       "          [0.81740195, 0.84093136, 0.84093136],\n",
       "          [0.8068628 , 0.8392157 , 0.8362745 ],\n",
       "          [0.8117647 , 0.84705883, 0.84313726]]],\n",
       " \n",
       " \n",
       "        ...,\n",
       " \n",
       " \n",
       "        [[[0.        , 0.        , 0.        ],\n",
       "          [0.        , 0.        , 0.        ],\n",
       "          [0.        , 0.        , 0.        ],\n",
       "          ...,\n",
       "          [0.        , 0.        , 0.        ],\n",
       "          [0.        , 0.        , 0.        ],\n",
       "          [0.        , 0.        , 0.        ]],\n",
       " \n",
       "         [[0.        , 0.        , 0.        ],\n",
       "          [0.        , 0.        , 0.        ],\n",
       "          [0.        , 0.        , 0.        ],\n",
       "          ...,\n",
       "          [0.        , 0.        , 0.        ],\n",
       "          [0.        , 0.        , 0.        ],\n",
       "          [0.        , 0.        , 0.        ]],\n",
       " \n",
       "         [[0.        , 0.        , 0.        ],\n",
       "          [0.        , 0.        , 0.        ],\n",
       "          [0.        , 0.        , 0.        ],\n",
       "          ...,\n",
       "          [0.        , 0.        , 0.        ],\n",
       "          [0.        , 0.        , 0.        ],\n",
       "          [0.        , 0.        , 0.        ]],\n",
       " \n",
       "         ...,\n",
       " \n",
       "         [[0.714951  , 0.7502451 , 0.73651963],\n",
       "          [0.71568626, 0.7529412 , 0.7382353 ],\n",
       "          [0.7051471 , 0.752451  , 0.7404412 ],\n",
       "          ...,\n",
       "          [0.7708333 , 0.62083334, 0.5482843 ],\n",
       "          [0.79387254, 0.6517157 , 0.59289217],\n",
       "          [0.782598  , 0.6737745 , 0.6159314 ]],\n",
       " \n",
       "         [[0.7240196 , 0.7622549 , 0.73382354],\n",
       "          [0.747549  , 0.7862745 , 0.75759804],\n",
       "          [0.73651963, 0.782598  , 0.764951  ],\n",
       "          ...,\n",
       "          [0.7872549 , 0.6372549 , 0.5647059 ],\n",
       "          [0.7852941 , 0.6382353 , 0.5745098 ],\n",
       "          [0.79387254, 0.6669118 , 0.60784316]],\n",
       " \n",
       "         [[0.7       , 0.74313724, 0.7117647 ],\n",
       "          [0.71960783, 0.7558824 , 0.722549  ],\n",
       "          [0.7085784 , 0.7492647 , 0.7245098 ],\n",
       "          ...,\n",
       "          [0.75710785, 0.60808825, 0.5276961 ],\n",
       "          [0.7754902 , 0.62941176, 0.55784315],\n",
       "          [0.7735294 , 0.6460784 , 0.57843137]]],\n",
       " \n",
       " \n",
       "        [[[0.38357842, 0.1125    , 0.11495098],\n",
       "          [0.4007353 , 0.16789216, 0.15735294],\n",
       "          [0.42083332, 0.23284313, 0.21004902],\n",
       "          ...,\n",
       "          [0.50784314, 0.25661764, 0.21470588],\n",
       "          [0.50441176, 0.13161765, 0.11446078],\n",
       "          [0.5323529 , 0.11372549, 0.12254902]],\n",
       " \n",
       "         [[0.4154412 , 0.10857843, 0.09877451],\n",
       "          [0.41593137, 0.11789215, 0.10514706],\n",
       "          [0.41029412, 0.09779412, 0.08995098],\n",
       "          ...,\n",
       "          [0.59460783, 0.4139706 , 0.36715686],\n",
       "          [0.49240196, 0.16004902, 0.15220588],\n",
       "          [0.5176471 , 0.12156863, 0.1384804 ]],\n",
       " \n",
       "         [[0.42328432, 0.11936274, 0.08504902],\n",
       "          [0.38578433, 0.09656863, 0.05637255],\n",
       "          [0.43504903, 0.10367647, 0.08308823],\n",
       "          ...,\n",
       "          [0.6911765 , 0.5781863 , 0.54656863],\n",
       "          [0.4512255 , 0.15857843, 0.16838235],\n",
       "          [0.50416666, 0.12745099, 0.15882353]],\n",
       " \n",
       "         ...,\n",
       " \n",
       "         [[0.5590686 , 0.52867645, 0.4747549 ],\n",
       "          [0.56421566, 0.54362744, 0.4779412 ],\n",
       "          [0.5183824 , 0.5095588 , 0.42916667],\n",
       "          ...,\n",
       "          [0.29460785, 0.30833334, 0.25269607],\n",
       "          [0.20882353, 0.21813725, 0.1625    ],\n",
       "          [0.1754902 , 0.18627451, 0.12254902]],\n",
       " \n",
       "         [[0.5443627 , 0.51691175, 0.45416668],\n",
       "          [0.59166664, 0.5740196 , 0.4995098 ],\n",
       "          [0.55514705, 0.5473039 , 0.46495098],\n",
       "          ...,\n",
       "          [0.32034314, 0.32671568, 0.26519608],\n",
       "          [0.25612745, 0.2647059 , 0.20759805],\n",
       "          [0.18186274, 0.18970588, 0.13480392]],\n",
       " \n",
       "         [[0.5147059 , 0.4872549 , 0.41666666],\n",
       "          [0.5776961 , 0.56102943, 0.48455882],\n",
       "          [0.5004902 , 0.49264705, 0.40441176],\n",
       "          ...,\n",
       "          [0.34068626, 0.34460783, 0.28382352],\n",
       "          [0.35784313, 0.3647059 , 0.30980393],\n",
       "          [0.21078432, 0.21862745, 0.16764706]]],\n",
       " \n",
       " \n",
       "        [[[0.8355392 , 0.8394608 , 0.8473039 ],\n",
       "          [0.82843137, 0.8352941 , 0.8421569 ],\n",
       "          [0.8186275 , 0.83431375, 0.83235294],\n",
       "          ...,\n",
       "          [0.73357844, 0.73357844, 0.7414216 ],\n",
       "          [0.74191177, 0.74191177, 0.7497549 ],\n",
       "          [0.7480392 , 0.7480392 , 0.7558824 ]],\n",
       " \n",
       "         [[0.82941175, 0.8362745 , 0.845098  ],\n",
       "          [0.8264706 , 0.8421569 , 0.84607846],\n",
       "          [0.8235294 , 0.8392157 , 0.8372549 ],\n",
       "          ...,\n",
       "          [0.74019605, 0.74019605, 0.7480392 ],\n",
       "          [0.7411765 , 0.7411765 , 0.7490196 ],\n",
       "          [0.7411765 , 0.7411765 , 0.7490196 ]],\n",
       " \n",
       "         [[0.8245098 , 0.8401961 , 0.8519608 ],\n",
       "          [0.8235294 , 0.8392157 , 0.84313726],\n",
       "          [0.8279412 , 0.8392157 , 0.8372549 ],\n",
       "          ...,\n",
       "          [0.73946077, 0.73946077, 0.7473039 ],\n",
       "          [0.73651963, 0.73651963, 0.7443628 ],\n",
       "          [0.7411765 , 0.7411765 , 0.7490196 ]],\n",
       " \n",
       "         ...,\n",
       " \n",
       "         [[0.81789213, 0.8335784 , 0.8453431 ],\n",
       "          [0.82058823, 0.8333333 , 0.84607846],\n",
       "          [0.827451  , 0.83137256, 0.84705883],\n",
       "          ...,\n",
       "          [0.68014705, 0.6762255 , 0.6605392 ],\n",
       "          [0.68235296, 0.6784314 , 0.6627451 ],\n",
       "          [0.6784314 , 0.6745098 , 0.65882355]],\n",
       " \n",
       "         [[0.8156863 , 0.83137256, 0.84313726],\n",
       "          [0.8147059 , 0.827451  , 0.8401961 ],\n",
       "          [0.82965684, 0.8335784 , 0.8492647 ],\n",
       "          ...,\n",
       "          [0.67941177, 0.6754902 , 0.66568625],\n",
       "          [0.6786765 , 0.6747549 , 0.6605392 ],\n",
       "          [0.67941177, 0.6754902 , 0.6598039 ]],\n",
       " \n",
       "         [[0.82058823, 0.8362745 , 0.8480392 ],\n",
       "          [0.8215686 , 0.83431375, 0.84705883],\n",
       "          [0.8245098 , 0.82843137, 0.84411764],\n",
       "          ...,\n",
       "          [0.67941177, 0.67156863, 0.6754902 ],\n",
       "          [0.6784314 , 0.67058825, 0.6745098 ],\n",
       "          [0.68357843, 0.67965686, 0.6718137 ]]]], dtype=float32))"
      ]
     },
     "execution_count": 230,
     "metadata": {},
     "output_type": "execute_result"
    }
   ],
   "source": [
    "batch1[:2]"
   ]
  },
  {
   "cell_type": "code",
   "execution_count": 231,
   "id": "89f1d970",
   "metadata": {},
   "outputs": [
    {
     "data": {
      "text/plain": [
       "<tf.Tensor: shape=(16, 1), dtype=float32, numpy=\n",
       "array([[0.500834  ],\n",
       "       [0.5011255 ],\n",
       "       [0.5011568 ],\n",
       "       [0.5007561 ],\n",
       "       [0.5011027 ],\n",
       "       [0.500109  ],\n",
       "       [0.5003884 ],\n",
       "       [0.50179505],\n",
       "       [0.50180763],\n",
       "       [0.50088847],\n",
       "       [0.5004047 ],\n",
       "       [0.5007289 ],\n",
       "       [0.5004124 ],\n",
       "       [0.49959904],\n",
       "       [0.5012542 ],\n",
       "       [0.5001573 ]], dtype=float32)>"
      ]
     },
     "execution_count": 231,
     "metadata": {},
     "output_type": "execute_result"
    }
   ],
   "source": [
    "siamese_model(batch1[:2],training = True)"
   ]
  },
  {
   "cell_type": "code",
   "execution_count": 234,
   "id": "00325985",
   "metadata": {},
   "outputs": [],
   "source": [
    "@tf.function\n",
    "def train_step(batch):\n",
    "    \n",
    "    with tf.GradientTape() as tape:\n",
    "        \n",
    "        X = batch[:2]\n",
    "        \n",
    "        y= batch[2]\n",
    "        \n",
    "        yhat = siamese_model(X,training = True)\n",
    "        \n",
    "        loss = binary_cross_loss(y,yhat)\n",
    "        \n",
    "    grad = tape.gradient(loss,siamese_model.trainable_variables)\n",
    "    \n",
    "    opt.apply_gradients(zip(grad,siamese_model.trainable_variables))\n",
    "    \n",
    "    return loss\n",
    "        "
   ]
  },
  {
   "cell_type": "code",
   "execution_count": 250,
   "id": "3e839e67",
   "metadata": {},
   "outputs": [],
   "source": [
    "def train(data,EPOCHS):\n",
    "    for epoch in range (1,EPOCHS+1):\n",
    "        print('\\n Ep {}/{}'.format(epoch,EPOCHS))\n",
    "        progbar = tf.keras.utils.Progbar(len(data))\n",
    "        \n",
    "        for idx,batch in enumerate(data):\n",
    "#             print(batch)\n",
    "            \n",
    "            train_step(batch)\n",
    "            progbar.update(idx+1)\n",
    "        \n",
    "        if epoch % 10 ==0:\n",
    "            checkpoint.save(file_prefix=checkpoint_prefix)"
   ]
  },
  {
   "cell_type": "code",
   "execution_count": 251,
   "id": "672da1a4",
   "metadata": {},
   "outputs": [],
   "source": [
    "EPOCHS = 5"
   ]
  },
  {
   "cell_type": "code",
   "execution_count": 272,
   "id": "083f15e5",
   "metadata": {},
   "outputs": [
    {
     "name": "stdout",
     "output_type": "stream",
     "text": [
      "\n",
      " Ep 1/5\n"
     ]
    },
    {
     "ename": "KeyboardInterrupt",
     "evalue": "",
     "output_type": "error",
     "traceback": [
      "\u001b[1;31m---------------------------------------------------------------------------\u001b[0m",
      "\u001b[1;31mKeyboardInterrupt\u001b[0m                         Traceback (most recent call last)",
      "Cell \u001b[1;32mIn[272], line 1\u001b[0m\n\u001b[1;32m----> 1\u001b[0m \u001b[43mtrain\u001b[49m\u001b[43m(\u001b[49m\u001b[43mtrain_data\u001b[49m\u001b[43m,\u001b[49m\u001b[43mEPOCHS\u001b[49m\u001b[43m)\u001b[49m\n",
      "Cell \u001b[1;32mIn[250], line 9\u001b[0m, in \u001b[0;36mtrain\u001b[1;34m(data, EPOCHS)\u001b[0m\n\u001b[0;32m      4\u001b[0m         progbar \u001b[38;5;241m=\u001b[39m tf\u001b[38;5;241m.\u001b[39mkeras\u001b[38;5;241m.\u001b[39mutils\u001b[38;5;241m.\u001b[39mProgbar(\u001b[38;5;28mlen\u001b[39m(data))\n\u001b[0;32m      6\u001b[0m         \u001b[38;5;28;01mfor\u001b[39;00m idx,batch \u001b[38;5;129;01min\u001b[39;00m \u001b[38;5;28menumerate\u001b[39m(data):\n\u001b[0;32m      7\u001b[0m \u001b[38;5;66;03m#             print(batch)\u001b[39;00m\n\u001b[1;32m----> 9\u001b[0m             \u001b[43mtrain_step\u001b[49m\u001b[43m(\u001b[49m\u001b[43mbatch\u001b[49m\u001b[43m)\u001b[49m\n\u001b[0;32m     10\u001b[0m             progbar\u001b[38;5;241m.\u001b[39mupdate(idx\u001b[38;5;241m+\u001b[39m\u001b[38;5;241m1\u001b[39m)\n\u001b[0;32m     12\u001b[0m         \u001b[38;5;28;01mif\u001b[39;00m epoch \u001b[38;5;241m%\u001b[39m \u001b[38;5;241m10\u001b[39m \u001b[38;5;241m==\u001b[39m\u001b[38;5;241m0\u001b[39m:\n",
      "File \u001b[1;32m~\\anaconda3\\lib\\site-packages\\tensorflow\\python\\util\\traceback_utils.py:150\u001b[0m, in \u001b[0;36mfilter_traceback.<locals>.error_handler\u001b[1;34m(*args, **kwargs)\u001b[0m\n\u001b[0;32m    148\u001b[0m filtered_tb \u001b[38;5;241m=\u001b[39m \u001b[38;5;28;01mNone\u001b[39;00m\n\u001b[0;32m    149\u001b[0m \u001b[38;5;28;01mtry\u001b[39;00m:\n\u001b[1;32m--> 150\u001b[0m   \u001b[38;5;28;01mreturn\u001b[39;00m fn(\u001b[38;5;241m*\u001b[39margs, \u001b[38;5;241m*\u001b[39m\u001b[38;5;241m*\u001b[39mkwargs)\n\u001b[0;32m    151\u001b[0m \u001b[38;5;28;01mexcept\u001b[39;00m \u001b[38;5;167;01mException\u001b[39;00m \u001b[38;5;28;01mas\u001b[39;00m e:\n\u001b[0;32m    152\u001b[0m   filtered_tb \u001b[38;5;241m=\u001b[39m _process_traceback_frames(e\u001b[38;5;241m.\u001b[39m__traceback__)\n",
      "File \u001b[1;32m~\\anaconda3\\lib\\site-packages\\tensorflow\\python\\eager\\polymorphic_function\\polymorphic_function.py:825\u001b[0m, in \u001b[0;36mFunction.__call__\u001b[1;34m(self, *args, **kwds)\u001b[0m\n\u001b[0;32m    822\u001b[0m compiler \u001b[38;5;241m=\u001b[39m \u001b[38;5;124m\"\u001b[39m\u001b[38;5;124mxla\u001b[39m\u001b[38;5;124m\"\u001b[39m \u001b[38;5;28;01mif\u001b[39;00m \u001b[38;5;28mself\u001b[39m\u001b[38;5;241m.\u001b[39m_jit_compile \u001b[38;5;28;01melse\u001b[39;00m \u001b[38;5;124m\"\u001b[39m\u001b[38;5;124mnonXla\u001b[39m\u001b[38;5;124m\"\u001b[39m\n\u001b[0;32m    824\u001b[0m \u001b[38;5;28;01mwith\u001b[39;00m OptionalXlaContext(\u001b[38;5;28mself\u001b[39m\u001b[38;5;241m.\u001b[39m_jit_compile):\n\u001b[1;32m--> 825\u001b[0m   result \u001b[38;5;241m=\u001b[39m \u001b[38;5;28mself\u001b[39m\u001b[38;5;241m.\u001b[39m_call(\u001b[38;5;241m*\u001b[39margs, \u001b[38;5;241m*\u001b[39m\u001b[38;5;241m*\u001b[39mkwds)\n\u001b[0;32m    827\u001b[0m new_tracing_count \u001b[38;5;241m=\u001b[39m \u001b[38;5;28mself\u001b[39m\u001b[38;5;241m.\u001b[39mexperimental_get_tracing_count()\n\u001b[0;32m    828\u001b[0m without_tracing \u001b[38;5;241m=\u001b[39m (tracing_count \u001b[38;5;241m==\u001b[39m new_tracing_count)\n",
      "File \u001b[1;32m~\\anaconda3\\lib\\site-packages\\tensorflow\\python\\eager\\polymorphic_function\\polymorphic_function.py:857\u001b[0m, in \u001b[0;36mFunction._call\u001b[1;34m(self, *args, **kwds)\u001b[0m\n\u001b[0;32m    854\u001b[0m   \u001b[38;5;28mself\u001b[39m\u001b[38;5;241m.\u001b[39m_lock\u001b[38;5;241m.\u001b[39mrelease()\n\u001b[0;32m    855\u001b[0m   \u001b[38;5;66;03m# In this case we have created variables on the first call, so we run the\u001b[39;00m\n\u001b[0;32m    856\u001b[0m   \u001b[38;5;66;03m# defunned version which is guaranteed to never create variables.\u001b[39;00m\n\u001b[1;32m--> 857\u001b[0m   \u001b[38;5;28;01mreturn\u001b[39;00m \u001b[38;5;28mself\u001b[39m\u001b[38;5;241m.\u001b[39m_no_variable_creation_fn(\u001b[38;5;241m*\u001b[39margs, \u001b[38;5;241m*\u001b[39m\u001b[38;5;241m*\u001b[39mkwds)  \u001b[38;5;66;03m# pylint: disable=not-callable\u001b[39;00m\n\u001b[0;32m    858\u001b[0m \u001b[38;5;28;01melif\u001b[39;00m \u001b[38;5;28mself\u001b[39m\u001b[38;5;241m.\u001b[39m_variable_creation_fn \u001b[38;5;129;01mis\u001b[39;00m \u001b[38;5;129;01mnot\u001b[39;00m \u001b[38;5;28;01mNone\u001b[39;00m:\n\u001b[0;32m    859\u001b[0m   \u001b[38;5;66;03m# Release the lock early so that multiple threads can perform the call\u001b[39;00m\n\u001b[0;32m    860\u001b[0m   \u001b[38;5;66;03m# in parallel.\u001b[39;00m\n\u001b[0;32m    861\u001b[0m   \u001b[38;5;28mself\u001b[39m\u001b[38;5;241m.\u001b[39m_lock\u001b[38;5;241m.\u001b[39mrelease()\n",
      "File \u001b[1;32m~\\anaconda3\\lib\\site-packages\\tensorflow\\python\\eager\\polymorphic_function\\tracing_compiler.py:148\u001b[0m, in \u001b[0;36mTracingCompiler.__call__\u001b[1;34m(self, *args, **kwargs)\u001b[0m\n\u001b[0;32m    145\u001b[0m \u001b[38;5;28;01mwith\u001b[39;00m \u001b[38;5;28mself\u001b[39m\u001b[38;5;241m.\u001b[39m_lock:\n\u001b[0;32m    146\u001b[0m   (concrete_function,\n\u001b[0;32m    147\u001b[0m    filtered_flat_args) \u001b[38;5;241m=\u001b[39m \u001b[38;5;28mself\u001b[39m\u001b[38;5;241m.\u001b[39m_maybe_define_function(args, kwargs)\n\u001b[1;32m--> 148\u001b[0m \u001b[38;5;28;01mreturn\u001b[39;00m \u001b[43mconcrete_function\u001b[49m\u001b[38;5;241;43m.\u001b[39;49m\u001b[43m_call_flat\u001b[49m\u001b[43m(\u001b[49m\n\u001b[0;32m    149\u001b[0m \u001b[43m    \u001b[49m\u001b[43mfiltered_flat_args\u001b[49m\u001b[43m,\u001b[49m\u001b[43m \u001b[49m\u001b[43mcaptured_inputs\u001b[49m\u001b[38;5;241;43m=\u001b[39;49m\u001b[43mconcrete_function\u001b[49m\u001b[38;5;241;43m.\u001b[39;49m\u001b[43mcaptured_inputs\u001b[49m\u001b[43m)\u001b[49m\n",
      "File \u001b[1;32m~\\anaconda3\\lib\\site-packages\\tensorflow\\python\\eager\\polymorphic_function\\monomorphic_function.py:1349\u001b[0m, in \u001b[0;36mConcreteFunction._call_flat\u001b[1;34m(self, args, captured_inputs)\u001b[0m\n\u001b[0;32m   1345\u001b[0m possible_gradient_type \u001b[38;5;241m=\u001b[39m gradients_util\u001b[38;5;241m.\u001b[39mPossibleTapeGradientTypes(args)\n\u001b[0;32m   1346\u001b[0m \u001b[38;5;28;01mif\u001b[39;00m (possible_gradient_type \u001b[38;5;241m==\u001b[39m gradients_util\u001b[38;5;241m.\u001b[39mPOSSIBLE_GRADIENT_TYPES_NONE\n\u001b[0;32m   1347\u001b[0m     \u001b[38;5;129;01mand\u001b[39;00m executing_eagerly):\n\u001b[0;32m   1348\u001b[0m   \u001b[38;5;66;03m# No tape is watching; skip to running the function.\u001b[39;00m\n\u001b[1;32m-> 1349\u001b[0m   \u001b[38;5;28;01mreturn\u001b[39;00m \u001b[38;5;28mself\u001b[39m\u001b[38;5;241m.\u001b[39m_build_call_outputs(\u001b[38;5;28;43mself\u001b[39;49m\u001b[38;5;241;43m.\u001b[39;49m\u001b[43m_inference_function\u001b[49m\u001b[43m(\u001b[49m\u001b[38;5;241;43m*\u001b[39;49m\u001b[43margs\u001b[49m\u001b[43m)\u001b[49m)\n\u001b[0;32m   1350\u001b[0m forward_backward \u001b[38;5;241m=\u001b[39m \u001b[38;5;28mself\u001b[39m\u001b[38;5;241m.\u001b[39m_select_forward_and_backward_functions(\n\u001b[0;32m   1351\u001b[0m     args,\n\u001b[0;32m   1352\u001b[0m     possible_gradient_type,\n\u001b[0;32m   1353\u001b[0m     executing_eagerly)\n\u001b[0;32m   1354\u001b[0m forward_function, args_with_tangents \u001b[38;5;241m=\u001b[39m forward_backward\u001b[38;5;241m.\u001b[39mforward()\n",
      "File \u001b[1;32m~\\anaconda3\\lib\\site-packages\\tensorflow\\python\\eager\\polymorphic_function\\atomic_function.py:196\u001b[0m, in \u001b[0;36mAtomicFunction.__call__\u001b[1;34m(self, *args)\u001b[0m\n\u001b[0;32m    194\u001b[0m \u001b[38;5;28;01mwith\u001b[39;00m record\u001b[38;5;241m.\u001b[39mstop_recording():\n\u001b[0;32m    195\u001b[0m   \u001b[38;5;28;01mif\u001b[39;00m \u001b[38;5;28mself\u001b[39m\u001b[38;5;241m.\u001b[39m_bound_context\u001b[38;5;241m.\u001b[39mexecuting_eagerly():\n\u001b[1;32m--> 196\u001b[0m     outputs \u001b[38;5;241m=\u001b[39m \u001b[38;5;28;43mself\u001b[39;49m\u001b[38;5;241;43m.\u001b[39;49m\u001b[43m_bound_context\u001b[49m\u001b[38;5;241;43m.\u001b[39;49m\u001b[43mcall_function\u001b[49m\u001b[43m(\u001b[49m\n\u001b[0;32m    197\u001b[0m \u001b[43m        \u001b[49m\u001b[38;5;28;43mself\u001b[39;49m\u001b[38;5;241;43m.\u001b[39;49m\u001b[43mname\u001b[49m\u001b[43m,\u001b[49m\n\u001b[0;32m    198\u001b[0m \u001b[43m        \u001b[49m\u001b[38;5;28;43mlist\u001b[39;49m\u001b[43m(\u001b[49m\u001b[43margs\u001b[49m\u001b[43m)\u001b[49m\u001b[43m,\u001b[49m\n\u001b[0;32m    199\u001b[0m \u001b[43m        \u001b[49m\u001b[38;5;28;43mlen\u001b[39;49m\u001b[43m(\u001b[49m\u001b[38;5;28;43mself\u001b[39;49m\u001b[38;5;241;43m.\u001b[39;49m\u001b[43mfunction_type\u001b[49m\u001b[38;5;241;43m.\u001b[39;49m\u001b[43mflat_outputs\u001b[49m\u001b[43m)\u001b[49m\u001b[43m,\u001b[49m\n\u001b[0;32m    200\u001b[0m \u001b[43m    \u001b[49m\u001b[43m)\u001b[49m\n\u001b[0;32m    201\u001b[0m   \u001b[38;5;28;01melse\u001b[39;00m:\n\u001b[0;32m    202\u001b[0m     outputs \u001b[38;5;241m=\u001b[39m make_call_op_in_graph(\u001b[38;5;28mself\u001b[39m, \u001b[38;5;28mlist\u001b[39m(args))\n",
      "File \u001b[1;32m~\\anaconda3\\lib\\site-packages\\tensorflow\\python\\eager\\context.py:1457\u001b[0m, in \u001b[0;36mContext.call_function\u001b[1;34m(self, name, tensor_inputs, num_outputs)\u001b[0m\n\u001b[0;32m   1455\u001b[0m cancellation_context \u001b[38;5;241m=\u001b[39m cancellation\u001b[38;5;241m.\u001b[39mcontext()\n\u001b[0;32m   1456\u001b[0m \u001b[38;5;28;01mif\u001b[39;00m cancellation_context \u001b[38;5;129;01mis\u001b[39;00m \u001b[38;5;28;01mNone\u001b[39;00m:\n\u001b[1;32m-> 1457\u001b[0m   outputs \u001b[38;5;241m=\u001b[39m \u001b[43mexecute\u001b[49m\u001b[38;5;241;43m.\u001b[39;49m\u001b[43mexecute\u001b[49m\u001b[43m(\u001b[49m\n\u001b[0;32m   1458\u001b[0m \u001b[43m      \u001b[49m\u001b[43mname\u001b[49m\u001b[38;5;241;43m.\u001b[39;49m\u001b[43mdecode\u001b[49m\u001b[43m(\u001b[49m\u001b[38;5;124;43m\"\u001b[39;49m\u001b[38;5;124;43mutf-8\u001b[39;49m\u001b[38;5;124;43m\"\u001b[39;49m\u001b[43m)\u001b[49m\u001b[43m,\u001b[49m\n\u001b[0;32m   1459\u001b[0m \u001b[43m      \u001b[49m\u001b[43mnum_outputs\u001b[49m\u001b[38;5;241;43m=\u001b[39;49m\u001b[43mnum_outputs\u001b[49m\u001b[43m,\u001b[49m\n\u001b[0;32m   1460\u001b[0m \u001b[43m      \u001b[49m\u001b[43minputs\u001b[49m\u001b[38;5;241;43m=\u001b[39;49m\u001b[43mtensor_inputs\u001b[49m\u001b[43m,\u001b[49m\n\u001b[0;32m   1461\u001b[0m \u001b[43m      \u001b[49m\u001b[43mattrs\u001b[49m\u001b[38;5;241;43m=\u001b[39;49m\u001b[43mattrs\u001b[49m\u001b[43m,\u001b[49m\n\u001b[0;32m   1462\u001b[0m \u001b[43m      \u001b[49m\u001b[43mctx\u001b[49m\u001b[38;5;241;43m=\u001b[39;49m\u001b[38;5;28;43mself\u001b[39;49m\u001b[43m,\u001b[49m\n\u001b[0;32m   1463\u001b[0m \u001b[43m  \u001b[49m\u001b[43m)\u001b[49m\n\u001b[0;32m   1464\u001b[0m \u001b[38;5;28;01melse\u001b[39;00m:\n\u001b[0;32m   1465\u001b[0m   outputs \u001b[38;5;241m=\u001b[39m execute\u001b[38;5;241m.\u001b[39mexecute_with_cancellation(\n\u001b[0;32m   1466\u001b[0m       name\u001b[38;5;241m.\u001b[39mdecode(\u001b[38;5;124m\"\u001b[39m\u001b[38;5;124mutf-8\u001b[39m\u001b[38;5;124m\"\u001b[39m),\n\u001b[0;32m   1467\u001b[0m       num_outputs\u001b[38;5;241m=\u001b[39mnum_outputs,\n\u001b[1;32m   (...)\u001b[0m\n\u001b[0;32m   1471\u001b[0m       cancellation_manager\u001b[38;5;241m=\u001b[39mcancellation_context,\n\u001b[0;32m   1472\u001b[0m   )\n",
      "File \u001b[1;32m~\\anaconda3\\lib\\site-packages\\tensorflow\\python\\eager\\execute.py:53\u001b[0m, in \u001b[0;36mquick_execute\u001b[1;34m(op_name, num_outputs, inputs, attrs, ctx, name)\u001b[0m\n\u001b[0;32m     51\u001b[0m \u001b[38;5;28;01mtry\u001b[39;00m:\n\u001b[0;32m     52\u001b[0m   ctx\u001b[38;5;241m.\u001b[39mensure_initialized()\n\u001b[1;32m---> 53\u001b[0m   tensors \u001b[38;5;241m=\u001b[39m \u001b[43mpywrap_tfe\u001b[49m\u001b[38;5;241;43m.\u001b[39;49m\u001b[43mTFE_Py_Execute\u001b[49m\u001b[43m(\u001b[49m\u001b[43mctx\u001b[49m\u001b[38;5;241;43m.\u001b[39;49m\u001b[43m_handle\u001b[49m\u001b[43m,\u001b[49m\u001b[43m \u001b[49m\u001b[43mdevice_name\u001b[49m\u001b[43m,\u001b[49m\u001b[43m \u001b[49m\u001b[43mop_name\u001b[49m\u001b[43m,\u001b[49m\n\u001b[0;32m     54\u001b[0m \u001b[43m                                      \u001b[49m\u001b[43minputs\u001b[49m\u001b[43m,\u001b[49m\u001b[43m \u001b[49m\u001b[43mattrs\u001b[49m\u001b[43m,\u001b[49m\u001b[43m \u001b[49m\u001b[43mnum_outputs\u001b[49m\u001b[43m)\u001b[49m\n\u001b[0;32m     55\u001b[0m \u001b[38;5;28;01mexcept\u001b[39;00m core\u001b[38;5;241m.\u001b[39m_NotOkStatusException \u001b[38;5;28;01mas\u001b[39;00m e:\n\u001b[0;32m     56\u001b[0m   \u001b[38;5;28;01mif\u001b[39;00m name \u001b[38;5;129;01mis\u001b[39;00m \u001b[38;5;129;01mnot\u001b[39;00m \u001b[38;5;28;01mNone\u001b[39;00m:\n",
      "\u001b[1;31mKeyboardInterrupt\u001b[0m: "
     ]
    }
   ],
   "source": [
    "train(train_data,EPOCHS)"
   ]
  },
  {
   "cell_type": "code",
   "execution_count": null,
   "id": "02e22a0c",
   "metadata": {},
   "outputs": [],
   "source": []
  }
 ],
 "metadata": {
  "kernelspec": {
   "display_name": "Python 3 (ipykernel)",
   "language": "python",
   "name": "python3"
  },
  "language_info": {
   "codemirror_mode": {
    "name": "ipython",
    "version": 3
   },
   "file_extension": ".py",
   "mimetype": "text/x-python",
   "name": "python",
   "nbconvert_exporter": "python",
   "pygments_lexer": "ipython3",
   "version": "3.10.9"
  }
 },
 "nbformat": 4,
 "nbformat_minor": 5
}
